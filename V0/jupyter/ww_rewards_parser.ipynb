{
 "cells": [
  {
   "cell_type": "code",
   "execution_count": 1,
   "id": "eb72f98f-97a8-4f58-92fb-ee56b3437ed8",
   "metadata": {},
   "outputs": [],
   "source": [
    "# This notebook enable you to explore json dump downloaded from WW API in interacive mode. Transformations that\n",
    "# already implemented, represented in this notebook. New data transformations can be tested and later implemented\n",
    "# Just put your ereceipts.json file next to the notebook, read it (check filepath below) and run the notebook."
   ]
  },
  {
   "cell_type": "code",
   "execution_count": 2,
   "id": "a02fc652-a90b-451d-970b-a2e2d4da1623",
   "metadata": {},
   "outputs": [],
   "source": [
    "import pandas as pd\n",
    "import json\n",
    "import plotly.express as px"
   ]
  },
  {
   "cell_type": "code",
   "execution_count": 3,
   "id": "9901ce9f-0f24-4172-b527-792b43aef6c2",
   "metadata": {},
   "outputs": [],
   "source": [
    "class WWData:\n",
    "    \"\"\" It's a dummy class - replacement for the class of the same name in\n",
    "    the production code, with it this notebook code snippets can be copy-pasted from and to dashboads code\n",
    "    if you use the same object names. \"\"\"\n",
    "\n",
    "    # Constants\n",
    "    DIVISIONS = {'SO1010': 'BWS',\n",
    "                 'SO1005': 'Supermarkets',\n",
    "                 'SO1030': 'WW Metro'}\n",
    "\n",
    "    def __init__(self, session_id='', filepath='', debug=False):\n",
    "        self.transactions = pd.DataFrame()\n",
    "        self.items = pd.DataFrame()\n",
    "        \n",
    "ww = WWData()"
   ]
  },
  {
   "cell_type": "code",
   "execution_count": 4,
   "id": "c96395d1-5eed-436a-a27d-560b4d502bcd",
   "metadata": {},
   "outputs": [],
   "source": [
    "filepath = './ereceipts.json' # change path and name if neccessary"
   ]
  },
  {
   "cell_type": "code",
   "execution_count": 5,
   "id": "557ac500-fcfa-4ceb-ba1a-c211ee83507d",
   "metadata": {},
   "outputs": [],
   "source": [
    "with open(filepath) as json_file:\n",
    "    json_data = json.load(json_file)"
   ]
  },
  {
   "cell_type": "code",
   "execution_count": 6,
   "id": "8ba72f7c-a92d-4730-a8e9-991a73bf4149",
   "metadata": {},
   "outputs": [
    {
     "data": {
      "text/html": [
       "<div>\n",
       "<style scoped>\n",
       "    .dataframe tbody tr th:only-of-type {\n",
       "        vertical-align: middle;\n",
       "    }\n",
       "\n",
       "    .dataframe tbody tr th {\n",
       "        vertical-align: top;\n",
       "    }\n",
       "\n",
       "    .dataframe thead th {\n",
       "        text-align: right;\n",
       "    }\n",
       "</style>\n",
       "<table border=\"1\" class=\"dataframe\">\n",
       "  <thead>\n",
       "    <tr style=\"text-align: right;\">\n",
       "      <th></th>\n",
       "      <th>card</th>\n",
       "      <th>banner</th>\n",
       "      <th>storeName</th>\n",
       "      <th>storeNo</th>\n",
       "      <th>receiptKind</th>\n",
       "      <th>pointsEarned</th>\n",
       "      <th>receiptDate</th>\n",
       "      <th>total</th>\n",
       "      <th>gst</th>\n",
       "      <th>date</th>\n",
       "      <th>...</th>\n",
       "      <th>qffNumber</th>\n",
       "      <th>qffPointsEarned</th>\n",
       "      <th>transactionStatusCode</th>\n",
       "      <th>lmsReversalStatus</th>\n",
       "      <th>lmsErrSgmtUpdStatus</th>\n",
       "      <th>emailSendStatus</th>\n",
       "      <th>errorType</th>\n",
       "      <th>errorSource</th>\n",
       "      <th>errorCode</th>\n",
       "      <th>errorDescr</th>\n",
       "    </tr>\n",
       "    <tr>\n",
       "      <th>basketKey</th>\n",
       "      <th></th>\n",
       "      <th></th>\n",
       "      <th></th>\n",
       "      <th></th>\n",
       "      <th></th>\n",
       "      <th></th>\n",
       "      <th></th>\n",
       "      <th></th>\n",
       "      <th></th>\n",
       "      <th></th>\n",
       "      <th></th>\n",
       "      <th></th>\n",
       "      <th></th>\n",
       "      <th></th>\n",
       "      <th></th>\n",
       "      <th></th>\n",
       "      <th></th>\n",
       "      <th></th>\n",
       "      <th></th>\n",
       "      <th></th>\n",
       "      <th></th>\n",
       "    </tr>\n",
       "  </thead>\n",
       "  <tbody>\n",
       "    <tr>\n",
       "      <th>20210825154930003074446649</th>\n",
       "      <td>9355036811085</td>\n",
       "      <td>SO1010</td>\n",
       "      <td>Marrickville Metro BWS</td>\n",
       "      <td>6649</td>\n",
       "      <td>[MainReceipt, Coupon]</td>\n",
       "      <td>40</td>\n",
       "      <td>2021-08-25T15:49:54+10:00</td>\n",
       "      <td>$40.00</td>\n",
       "      <td>$3.64</td>\n",
       "      <td>25/08/2021</td>\n",
       "      <td>...</td>\n",
       "      <td>NaN</td>\n",
       "      <td>NaN</td>\n",
       "      <td>NaN</td>\n",
       "      <td>NaN</td>\n",
       "      <td>NaN</td>\n",
       "      <td>NaN</td>\n",
       "      <td>NaN</td>\n",
       "      <td>NaN</td>\n",
       "      <td>NaN</td>\n",
       "      <td>NaN</td>\n",
       "    </tr>\n",
       "    <tr>\n",
       "      <th>20210825154136083078961649</th>\n",
       "      <td>9355036811085</td>\n",
       "      <td>SO1005</td>\n",
       "      <td>Marrickville Metro</td>\n",
       "      <td>1649</td>\n",
       "      <td>[MainReceipt, Coupon]</td>\n",
       "      <td>50</td>\n",
       "      <td>2021-08-25T15:43:45+10:00</td>\n",
       "      <td>$49.72</td>\n",
       "      <td>$0.69</td>\n",
       "      <td>25/08/2021</td>\n",
       "      <td>...</td>\n",
       "      <td>NaN</td>\n",
       "      <td>NaN</td>\n",
       "      <td>NaN</td>\n",
       "      <td>NaN</td>\n",
       "      <td>NaN</td>\n",
       "      <td>NaN</td>\n",
       "      <td>NaN</td>\n",
       "      <td>NaN</td>\n",
       "      <td>NaN</td>\n",
       "      <td>NaN</td>\n",
       "    </tr>\n",
       "    <tr>\n",
       "      <th>20210821162427062077961149</th>\n",
       "      <td>9355036811085</td>\n",
       "      <td>SO1005</td>\n",
       "      <td>Marrickville</td>\n",
       "      <td>1149</td>\n",
       "      <td>[MainReceipt, Coupon]</td>\n",
       "      <td>20</td>\n",
       "      <td>2021-08-21T16:25:09+10:00</td>\n",
       "      <td>$20.94</td>\n",
       "      <td>$1.09</td>\n",
       "      <td>21/08/2021</td>\n",
       "      <td>...</td>\n",
       "      <td>NaN</td>\n",
       "      <td>NaN</td>\n",
       "      <td>NaN</td>\n",
       "      <td>NaN</td>\n",
       "      <td>NaN</td>\n",
       "      <td>NaN</td>\n",
       "      <td>NaN</td>\n",
       "      <td>NaN</td>\n",
       "      <td>NaN</td>\n",
       "      <td>NaN</td>\n",
       "    </tr>\n",
       "    <tr>\n",
       "      <th>20210817123756068068201649</th>\n",
       "      <td>9355036811085</td>\n",
       "      <td>SO1005</td>\n",
       "      <td>Marrickville Metro</td>\n",
       "      <td>1649</td>\n",
       "      <td>[MainReceipt, Coupon]</td>\n",
       "      <td>94</td>\n",
       "      <td>2021-08-17T12:41:30+10:00</td>\n",
       "      <td>$93.34</td>\n",
       "      <td>$1.08</td>\n",
       "      <td>17/08/2021</td>\n",
       "      <td>...</td>\n",
       "      <td>NaN</td>\n",
       "      <td>NaN</td>\n",
       "      <td>NaN</td>\n",
       "      <td>NaN</td>\n",
       "      <td>NaN</td>\n",
       "      <td>NaN</td>\n",
       "      <td>NaN</td>\n",
       "      <td>NaN</td>\n",
       "      <td>NaN</td>\n",
       "      <td>NaN</td>\n",
       "    </tr>\n",
       "    <tr>\n",
       "      <th>20210812133907066045471649</th>\n",
       "      <td>9355036811085</td>\n",
       "      <td>SO1005</td>\n",
       "      <td>Marrickville Metro</td>\n",
       "      <td>1649</td>\n",
       "      <td>[MainReceipt, Coupon]</td>\n",
       "      <td>116</td>\n",
       "      <td>2021-08-12T13:42:23+10:00</td>\n",
       "      <td>$91.10</td>\n",
       "      <td>$2.91</td>\n",
       "      <td>12/08/2021</td>\n",
       "      <td>...</td>\n",
       "      <td>NaN</td>\n",
       "      <td>NaN</td>\n",
       "      <td>NaN</td>\n",
       "      <td>NaN</td>\n",
       "      <td>NaN</td>\n",
       "      <td>NaN</td>\n",
       "      <td>NaN</td>\n",
       "      <td>NaN</td>\n",
       "      <td>NaN</td>\n",
       "      <td>NaN</td>\n",
       "    </tr>\n",
       "  </tbody>\n",
       "</table>\n",
       "<p>5 rows × 56 columns</p>\n",
       "</div>"
      ],
      "text/plain": [
       "                                     card  banner               storeName  \\\n",
       "basketKey                                                                   \n",
       "20210825154930003074446649  9355036811085  SO1010  Marrickville Metro BWS   \n",
       "20210825154136083078961649  9355036811085  SO1005      Marrickville Metro   \n",
       "20210821162427062077961149  9355036811085  SO1005            Marrickville   \n",
       "20210817123756068068201649  9355036811085  SO1005      Marrickville Metro   \n",
       "20210812133907066045471649  9355036811085  SO1005      Marrickville Metro   \n",
       "\n",
       "                           storeNo            receiptKind pointsEarned  \\\n",
       "basketKey                                                                \n",
       "20210825154930003074446649    6649  [MainReceipt, Coupon]           40   \n",
       "20210825154136083078961649    1649  [MainReceipt, Coupon]           50   \n",
       "20210821162427062077961149    1149  [MainReceipt, Coupon]           20   \n",
       "20210817123756068068201649    1649  [MainReceipt, Coupon]           94   \n",
       "20210812133907066045471649    1649  [MainReceipt, Coupon]          116   \n",
       "\n",
       "                                          receiptDate   total    gst  \\\n",
       "basketKey                                                              \n",
       "20210825154930003074446649  2021-08-25T15:49:54+10:00  $40.00  $3.64   \n",
       "20210825154136083078961649  2021-08-25T15:43:45+10:00  $49.72  $0.69   \n",
       "20210821162427062077961149  2021-08-21T16:25:09+10:00  $20.94  $1.09   \n",
       "20210817123756068068201649  2021-08-17T12:41:30+10:00  $93.34  $1.08   \n",
       "20210812133907066045471649  2021-08-12T13:42:23+10:00  $91.10  $2.91   \n",
       "\n",
       "                                  date  ... qffNumber qffPointsEarned  \\\n",
       "basketKey                               ...                             \n",
       "20210825154930003074446649  25/08/2021  ...       NaN             NaN   \n",
       "20210825154136083078961649  25/08/2021  ...       NaN             NaN   \n",
       "20210821162427062077961149  21/08/2021  ...       NaN             NaN   \n",
       "20210817123756068068201649  17/08/2021  ...       NaN             NaN   \n",
       "20210812133907066045471649  12/08/2021  ...       NaN             NaN   \n",
       "\n",
       "                           transactionStatusCode lmsReversalStatus  \\\n",
       "basketKey                                                            \n",
       "20210825154930003074446649                   NaN               NaN   \n",
       "20210825154136083078961649                   NaN               NaN   \n",
       "20210821162427062077961149                   NaN               NaN   \n",
       "20210817123756068068201649                   NaN               NaN   \n",
       "20210812133907066045471649                   NaN               NaN   \n",
       "\n",
       "                           lmsErrSgmtUpdStatus emailSendStatus errorType  \\\n",
       "basketKey                                                                  \n",
       "20210825154930003074446649                 NaN             NaN       NaN   \n",
       "20210825154136083078961649                 NaN             NaN       NaN   \n",
       "20210821162427062077961149                 NaN             NaN       NaN   \n",
       "20210817123756068068201649                 NaN             NaN       NaN   \n",
       "20210812133907066045471649                 NaN             NaN       NaN   \n",
       "\n",
       "                           errorSource errorCode errorDescr  \n",
       "basketKey                                                    \n",
       "20210825154930003074446649         NaN       NaN        NaN  \n",
       "20210825154136083078961649         NaN       NaN        NaN  \n",
       "20210821162427062077961149         NaN       NaN        NaN  \n",
       "20210817123756068068201649         NaN       NaN        NaN  \n",
       "20210812133907066045471649         NaN       NaN        NaN  \n",
       "\n",
       "[5 rows x 56 columns]"
      ]
     },
     "execution_count": 6,
     "metadata": {},
     "output_type": "execute_result"
    }
   ],
   "source": [
    "pd_tbl = pd.json_normalize(json_data)\n",
    "pd_tbl.set_index('basketKey', inplace=True)\n",
    "pd_tbl.head()"
   ]
  },
  {
   "cell_type": "code",
   "execution_count": 7,
   "id": "362c6503-e594-42b2-8d34-b049198f8e0e",
   "metadata": {},
   "outputs": [
    {
     "data": {
      "text/html": [
       "<div>\n",
       "<style scoped>\n",
       "    .dataframe tbody tr th:only-of-type {\n",
       "        vertical-align: middle;\n",
       "    }\n",
       "\n",
       "    .dataframe tbody tr th {\n",
       "        vertical-align: top;\n",
       "    }\n",
       "\n",
       "    .dataframe thead th {\n",
       "        text-align: right;\n",
       "    }\n",
       "</style>\n",
       "<table border=\"1\" class=\"dataframe\">\n",
       "  <thead>\n",
       "    <tr style=\"text-align: right;\">\n",
       "      <th></th>\n",
       "      <th>card</th>\n",
       "      <th>banner</th>\n",
       "      <th>storeName</th>\n",
       "      <th>storeNo</th>\n",
       "      <th>receiptKind</th>\n",
       "      <th>pointsEarned</th>\n",
       "      <th>receiptDate</th>\n",
       "      <th>total</th>\n",
       "      <th>gst</th>\n",
       "      <th>date</th>\n",
       "      <th>...</th>\n",
       "      <th>ReceiptDetailsTotal</th>\n",
       "      <th>ReceiptDetailsItems</th>\n",
       "      <th>ReceiptDetailsSummary</th>\n",
       "      <th>ReceiptDetailsPayments</th>\n",
       "      <th>ReceiptDetailsSavings</th>\n",
       "      <th>ReceiptDetailsCoupon</th>\n",
       "      <th>ReceiptDetailsCoupon.1</th>\n",
       "      <th>ReceiptDetailsFooter</th>\n",
       "      <th>ReceiptDetailsCoupon.2</th>\n",
       "      <th>ReceiptDetailsInfo</th>\n",
       "    </tr>\n",
       "    <tr>\n",
       "      <th>basketKey</th>\n",
       "      <th></th>\n",
       "      <th></th>\n",
       "      <th></th>\n",
       "      <th></th>\n",
       "      <th></th>\n",
       "      <th></th>\n",
       "      <th></th>\n",
       "      <th></th>\n",
       "      <th></th>\n",
       "      <th></th>\n",
       "      <th></th>\n",
       "      <th></th>\n",
       "      <th></th>\n",
       "      <th></th>\n",
       "      <th></th>\n",
       "      <th></th>\n",
       "      <th></th>\n",
       "      <th></th>\n",
       "      <th></th>\n",
       "      <th></th>\n",
       "      <th></th>\n",
       "    </tr>\n",
       "  </thead>\n",
       "  <tbody>\n",
       "    <tr>\n",
       "      <th>20210825154930003074446649</th>\n",
       "      <td>9355036811085</td>\n",
       "      <td>SO1010</td>\n",
       "      <td>Marrickville Metro BWS</td>\n",
       "      <td>6649</td>\n",
       "      <td>[MainReceipt, Coupon]</td>\n",
       "      <td>40</td>\n",
       "      <td>2021-08-25T15:49:54+10:00</td>\n",
       "      <td>$40.00</td>\n",
       "      <td>$3.64</td>\n",
       "      <td>25/08/2021</td>\n",
       "      <td>...</td>\n",
       "      <td>{'total': '$40.00'}</td>\n",
       "      <td>{'header': {'prefixChar': None, 'description':...</td>\n",
       "      <td>{'discounts': [], 'summaryItems': [{'prefixCha...</td>\n",
       "      <td>{'payments': [{'details': [{'text': '---------...</td>\n",
       "      <td>{'savings': 'You saved $10.00 🎉'}</td>\n",
       "      <td>{'headerImageUrl': None, 'sections': [{'sectio...</td>\n",
       "      <td>{'headerImageUrl': None, 'sections': [{'sectio...</td>\n",
       "      <td>{'barcode': {'value': '62966490037444250821', ...</td>\n",
       "      <td>{'headerImageUrl': 'https://prod.mobile-api.wo...</td>\n",
       "      <td>NaN</td>\n",
       "    </tr>\n",
       "    <tr>\n",
       "      <th>20210825154136083078961649</th>\n",
       "      <td>9355036811085</td>\n",
       "      <td>SO1005</td>\n",
       "      <td>Marrickville Metro</td>\n",
       "      <td>1649</td>\n",
       "      <td>[MainReceipt, Coupon]</td>\n",
       "      <td>50</td>\n",
       "      <td>2021-08-25T15:43:45+10:00</td>\n",
       "      <td>$49.72</td>\n",
       "      <td>$0.69</td>\n",
       "      <td>25/08/2021</td>\n",
       "      <td>...</td>\n",
       "      <td>{'total': '$49.72'}</td>\n",
       "      <td>{'header': {'prefixChar': None, 'description':...</td>\n",
       "      <td>{'discounts': [], 'summaryItems': [{'prefixCha...</td>\n",
       "      <td>{'payments': [{'details': [{'text': '---------...</td>\n",
       "      <td>{'savings': 'You saved $1.20 🎉'}</td>\n",
       "      <td>{'headerImageUrl': None, 'sections': [{'sectio...</td>\n",
       "      <td>{'headerImageUrl': 'https://prod.mobile-api.wo...</td>\n",
       "      <td>{'barcode': {'value': '62916490837896250821', ...</td>\n",
       "      <td>NaN</td>\n",
       "      <td>NaN</td>\n",
       "    </tr>\n",
       "    <tr>\n",
       "      <th>20210821162427062077961149</th>\n",
       "      <td>9355036811085</td>\n",
       "      <td>SO1005</td>\n",
       "      <td>Marrickville</td>\n",
       "      <td>1149</td>\n",
       "      <td>[MainReceipt, Coupon]</td>\n",
       "      <td>20</td>\n",
       "      <td>2021-08-21T16:25:09+10:00</td>\n",
       "      <td>$20.94</td>\n",
       "      <td>$1.09</td>\n",
       "      <td>21/08/2021</td>\n",
       "      <td>...</td>\n",
       "      <td>{'total': '$20.94'}</td>\n",
       "      <td>{'header': {'prefixChar': None, 'description':...</td>\n",
       "      <td>{'discounts': [], 'summaryItems': [{'prefixCha...</td>\n",
       "      <td>{'payments': [{'details': [{'text': '---------...</td>\n",
       "      <td>{'savings': 'You saved $1.80 🎉'}</td>\n",
       "      <td>{'headerImageUrl': None, 'sections': [{'sectio...</td>\n",
       "      <td>{'headerImageUrl': None, 'sections': [{'sectio...</td>\n",
       "      <td>{'barcode': {'value': '62911490627796210821', ...</td>\n",
       "      <td>NaN</td>\n",
       "      <td>NaN</td>\n",
       "    </tr>\n",
       "    <tr>\n",
       "      <th>20210817123756068068201649</th>\n",
       "      <td>9355036811085</td>\n",
       "      <td>SO1005</td>\n",
       "      <td>Marrickville Metro</td>\n",
       "      <td>1649</td>\n",
       "      <td>[MainReceipt, Coupon]</td>\n",
       "      <td>94</td>\n",
       "      <td>2021-08-17T12:41:30+10:00</td>\n",
       "      <td>$93.34</td>\n",
       "      <td>$1.08</td>\n",
       "      <td>17/08/2021</td>\n",
       "      <td>...</td>\n",
       "      <td>{'total': '$93.34'}</td>\n",
       "      <td>{'header': {'prefixChar': None, 'description':...</td>\n",
       "      <td>{'discounts': [], 'summaryItems': [{'prefixCha...</td>\n",
       "      <td>{'payments': [{'details': [{'text': '---------...</td>\n",
       "      <td>{'savings': 'You saved $8.10 🎉'}</td>\n",
       "      <td>{'headerImageUrl': None, 'sections': [{'sectio...</td>\n",
       "      <td>{'headerImageUrl': None, 'sections': [{'sectio...</td>\n",
       "      <td>{'barcode': {'value': '62916490686820170821', ...</td>\n",
       "      <td>NaN</td>\n",
       "      <td>NaN</td>\n",
       "    </tr>\n",
       "    <tr>\n",
       "      <th>20210812133907066045471649</th>\n",
       "      <td>9355036811085</td>\n",
       "      <td>SO1005</td>\n",
       "      <td>Marrickville Metro</td>\n",
       "      <td>1649</td>\n",
       "      <td>[MainReceipt, Coupon]</td>\n",
       "      <td>116</td>\n",
       "      <td>2021-08-12T13:42:23+10:00</td>\n",
       "      <td>$91.10</td>\n",
       "      <td>$2.91</td>\n",
       "      <td>12/08/2021</td>\n",
       "      <td>...</td>\n",
       "      <td>{'total': '$91.10'}</td>\n",
       "      <td>{'header': {'prefixChar': None, 'description':...</td>\n",
       "      <td>{'discounts': [], 'summaryItems': [{'prefixCha...</td>\n",
       "      <td>{'payments': [{'details': [{'text': '---------...</td>\n",
       "      <td>{'savings': 'You saved $12.95 🎉'}</td>\n",
       "      <td>{'headerImageUrl': None, 'sections': [{'sectio...</td>\n",
       "      <td>{'headerImageUrl': None, 'sections': [{'sectio...</td>\n",
       "      <td>{'barcode': {'value': '62916490664547120821', ...</td>\n",
       "      <td>NaN</td>\n",
       "      <td>NaN</td>\n",
       "    </tr>\n",
       "  </tbody>\n",
       "</table>\n",
       "<p>5 rows × 67 columns</p>\n",
       "</div>"
      ],
      "text/plain": [
       "                                     card  banner               storeName  \\\n",
       "basketKey                                                                   \n",
       "20210825154930003074446649  9355036811085  SO1010  Marrickville Metro BWS   \n",
       "20210825154136083078961649  9355036811085  SO1005      Marrickville Metro   \n",
       "20210821162427062077961149  9355036811085  SO1005            Marrickville   \n",
       "20210817123756068068201649  9355036811085  SO1005      Marrickville Metro   \n",
       "20210812133907066045471649  9355036811085  SO1005      Marrickville Metro   \n",
       "\n",
       "                           storeNo            receiptKind pointsEarned  \\\n",
       "basketKey                                                                \n",
       "20210825154930003074446649    6649  [MainReceipt, Coupon]           40   \n",
       "20210825154136083078961649    1649  [MainReceipt, Coupon]           50   \n",
       "20210821162427062077961149    1149  [MainReceipt, Coupon]           20   \n",
       "20210817123756068068201649    1649  [MainReceipt, Coupon]           94   \n",
       "20210812133907066045471649    1649  [MainReceipt, Coupon]          116   \n",
       "\n",
       "                                          receiptDate   total    gst  \\\n",
       "basketKey                                                              \n",
       "20210825154930003074446649  2021-08-25T15:49:54+10:00  $40.00  $3.64   \n",
       "20210825154136083078961649  2021-08-25T15:43:45+10:00  $49.72  $0.69   \n",
       "20210821162427062077961149  2021-08-21T16:25:09+10:00  $20.94  $1.09   \n",
       "20210817123756068068201649  2021-08-17T12:41:30+10:00  $93.34  $1.08   \n",
       "20210812133907066045471649  2021-08-12T13:42:23+10:00  $91.10  $2.91   \n",
       "\n",
       "                                  date  ...  ReceiptDetailsTotal  \\\n",
       "basketKey                               ...                        \n",
       "20210825154930003074446649  25/08/2021  ...  {'total': '$40.00'}   \n",
       "20210825154136083078961649  25/08/2021  ...  {'total': '$49.72'}   \n",
       "20210821162427062077961149  21/08/2021  ...  {'total': '$20.94'}   \n",
       "20210817123756068068201649  17/08/2021  ...  {'total': '$93.34'}   \n",
       "20210812133907066045471649  12/08/2021  ...  {'total': '$91.10'}   \n",
       "\n",
       "                                                          ReceiptDetailsItems  \\\n",
       "basketKey                                                                       \n",
       "20210825154930003074446649  {'header': {'prefixChar': None, 'description':...   \n",
       "20210825154136083078961649  {'header': {'prefixChar': None, 'description':...   \n",
       "20210821162427062077961149  {'header': {'prefixChar': None, 'description':...   \n",
       "20210817123756068068201649  {'header': {'prefixChar': None, 'description':...   \n",
       "20210812133907066045471649  {'header': {'prefixChar': None, 'description':...   \n",
       "\n",
       "                                                        ReceiptDetailsSummary  \\\n",
       "basketKey                                                                       \n",
       "20210825154930003074446649  {'discounts': [], 'summaryItems': [{'prefixCha...   \n",
       "20210825154136083078961649  {'discounts': [], 'summaryItems': [{'prefixCha...   \n",
       "20210821162427062077961149  {'discounts': [], 'summaryItems': [{'prefixCha...   \n",
       "20210817123756068068201649  {'discounts': [], 'summaryItems': [{'prefixCha...   \n",
       "20210812133907066045471649  {'discounts': [], 'summaryItems': [{'prefixCha...   \n",
       "\n",
       "                                                       ReceiptDetailsPayments  \\\n",
       "basketKey                                                                       \n",
       "20210825154930003074446649  {'payments': [{'details': [{'text': '---------...   \n",
       "20210825154136083078961649  {'payments': [{'details': [{'text': '---------...   \n",
       "20210821162427062077961149  {'payments': [{'details': [{'text': '---------...   \n",
       "20210817123756068068201649  {'payments': [{'details': [{'text': '---------...   \n",
       "20210812133907066045471649  {'payments': [{'details': [{'text': '---------...   \n",
       "\n",
       "                                        ReceiptDetailsSavings  \\\n",
       "basketKey                                                       \n",
       "20210825154930003074446649  {'savings': 'You saved $10.00 🎉'}   \n",
       "20210825154136083078961649   {'savings': 'You saved $1.20 🎉'}   \n",
       "20210821162427062077961149   {'savings': 'You saved $1.80 🎉'}   \n",
       "20210817123756068068201649   {'savings': 'You saved $8.10 🎉'}   \n",
       "20210812133907066045471649  {'savings': 'You saved $12.95 🎉'}   \n",
       "\n",
       "                                                         ReceiptDetailsCoupon  \\\n",
       "basketKey                                                                       \n",
       "20210825154930003074446649  {'headerImageUrl': None, 'sections': [{'sectio...   \n",
       "20210825154136083078961649  {'headerImageUrl': None, 'sections': [{'sectio...   \n",
       "20210821162427062077961149  {'headerImageUrl': None, 'sections': [{'sectio...   \n",
       "20210817123756068068201649  {'headerImageUrl': None, 'sections': [{'sectio...   \n",
       "20210812133907066045471649  {'headerImageUrl': None, 'sections': [{'sectio...   \n",
       "\n",
       "                                                       ReceiptDetailsCoupon.1  \\\n",
       "basketKey                                                                       \n",
       "20210825154930003074446649  {'headerImageUrl': None, 'sections': [{'sectio...   \n",
       "20210825154136083078961649  {'headerImageUrl': 'https://prod.mobile-api.wo...   \n",
       "20210821162427062077961149  {'headerImageUrl': None, 'sections': [{'sectio...   \n",
       "20210817123756068068201649  {'headerImageUrl': None, 'sections': [{'sectio...   \n",
       "20210812133907066045471649  {'headerImageUrl': None, 'sections': [{'sectio...   \n",
       "\n",
       "                                                         ReceiptDetailsFooter  \\\n",
       "basketKey                                                                       \n",
       "20210825154930003074446649  {'barcode': {'value': '62966490037444250821', ...   \n",
       "20210825154136083078961649  {'barcode': {'value': '62916490837896250821', ...   \n",
       "20210821162427062077961149  {'barcode': {'value': '62911490627796210821', ...   \n",
       "20210817123756068068201649  {'barcode': {'value': '62916490686820170821', ...   \n",
       "20210812133907066045471649  {'barcode': {'value': '62916490664547120821', ...   \n",
       "\n",
       "                                                       ReceiptDetailsCoupon.2  \\\n",
       "basketKey                                                                       \n",
       "20210825154930003074446649  {'headerImageUrl': 'https://prod.mobile-api.wo...   \n",
       "20210825154136083078961649                                                NaN   \n",
       "20210821162427062077961149                                                NaN   \n",
       "20210817123756068068201649                                                NaN   \n",
       "20210812133907066045471649                                                NaN   \n",
       "\n",
       "                           ReceiptDetailsInfo  \n",
       "basketKey                                      \n",
       "20210825154930003074446649                NaN  \n",
       "20210825154136083078961649                NaN  \n",
       "20210821162427062077961149                NaN  \n",
       "20210817123756068068201649                NaN  \n",
       "20210812133907066045471649                NaN  \n",
       "\n",
       "[5 rows x 67 columns]"
      ]
     },
     "execution_count": 7,
     "metadata": {},
     "output_type": "execute_result"
    }
   ],
   "source": [
    "## _ww_parse_ereceipts_column()\n",
    "data = pd_tbl\n",
    "\n",
    "ereceipts_details = data['ereceipt.receiptDetails.details']\n",
    "\n",
    "ereceipts_details_parsed = pd.DataFrame(index=ereceipts_details.index)\n",
    "\n",
    "for i, typename_list in ereceipts_details.dropna().items():\n",
    "    duplicate_names = {}\n",
    "    for val in typename_list:\n",
    "        json_content = val.copy()\n",
    "        key = json_content.pop('__typename')\n",
    "\n",
    "        if key in duplicate_names.keys():\n",
    "            ereceipts_details_parsed.loc[i, key+'.'\n",
    "                                         + str(duplicate_names[key])] = [json_content, ]\n",
    "            duplicate_names[key] += 1\n",
    "        else:\n",
    "            ereceipts_details_parsed.loc[i, key] = [json_content, ]\n",
    "            duplicate_names[key] = 1\n",
    "\n",
    "pd_tbl = data.join(ereceipts_details_parsed)\n",
    "pd_tbl.head()"
   ]
  },
  {
   "cell_type": "code",
   "execution_count": 10,
   "id": "ac17710f-36a7-45ef-8c29-e1eeaeaa07ce",
   "metadata": {},
   "outputs": [
    {
     "data": {
      "text/html": [
       "<div>\n",
       "<style scoped>\n",
       "    .dataframe tbody tr th:only-of-type {\n",
       "        vertical-align: middle;\n",
       "    }\n",
       "\n",
       "    .dataframe tbody tr th {\n",
       "        vertical-align: top;\n",
       "    }\n",
       "\n",
       "    .dataframe thead th {\n",
       "        text-align: right;\n",
       "    }\n",
       "</style>\n",
       "<table border=\"1\" class=\"dataframe\">\n",
       "  <thead>\n",
       "    <tr style=\"text-align: right;\">\n",
       "      <th></th>\n",
       "      <th>Date</th>\n",
       "      <th>Card Number</th>\n",
       "      <th>Brand</th>\n",
       "      <th>Store</th>\n",
       "      <th>Store Number</th>\n",
       "      <th>Receipt Total</th>\n",
       "      <th>Rewards Points</th>\n",
       "      <th>Extra Bonus Points</th>\n",
       "      <th>Total Points</th>\n",
       "    </tr>\n",
       "    <tr>\n",
       "      <th>basketKey</th>\n",
       "      <th></th>\n",
       "      <th></th>\n",
       "      <th></th>\n",
       "      <th></th>\n",
       "      <th></th>\n",
       "      <th></th>\n",
       "      <th></th>\n",
       "      <th></th>\n",
       "      <th></th>\n",
       "    </tr>\n",
       "  </thead>\n",
       "  <tbody>\n",
       "    <tr>\n",
       "      <th>20210825154930003074446649</th>\n",
       "      <td>2021-08-25 15:49:54</td>\n",
       "      <td>9355036811085</td>\n",
       "      <td>BWS</td>\n",
       "      <td>Marrickville Metro BWS</td>\n",
       "      <td>6649</td>\n",
       "      <td>40.00</td>\n",
       "      <td>40.0</td>\n",
       "      <td>0.0</td>\n",
       "      <td>40.0</td>\n",
       "    </tr>\n",
       "    <tr>\n",
       "      <th>20210825154136083078961649</th>\n",
       "      <td>2021-08-25 15:43:45</td>\n",
       "      <td>9355036811085</td>\n",
       "      <td>Supermarkets</td>\n",
       "      <td>Marrickville Metro</td>\n",
       "      <td>1649</td>\n",
       "      <td>49.72</td>\n",
       "      <td>50.0</td>\n",
       "      <td>0.0</td>\n",
       "      <td>50.0</td>\n",
       "    </tr>\n",
       "    <tr>\n",
       "      <th>20210821162427062077961149</th>\n",
       "      <td>2021-08-21 16:25:09</td>\n",
       "      <td>9355036811085</td>\n",
       "      <td>Supermarkets</td>\n",
       "      <td>Marrickville</td>\n",
       "      <td>1149</td>\n",
       "      <td>20.94</td>\n",
       "      <td>20.0</td>\n",
       "      <td>0.0</td>\n",
       "      <td>20.0</td>\n",
       "    </tr>\n",
       "    <tr>\n",
       "      <th>20210817123756068068201649</th>\n",
       "      <td>2021-08-17 12:41:30</td>\n",
       "      <td>9355036811085</td>\n",
       "      <td>Supermarkets</td>\n",
       "      <td>Marrickville Metro</td>\n",
       "      <td>1649</td>\n",
       "      <td>93.34</td>\n",
       "      <td>94.0</td>\n",
       "      <td>0.0</td>\n",
       "      <td>94.0</td>\n",
       "    </tr>\n",
       "    <tr>\n",
       "      <th>20210812133907066045471649</th>\n",
       "      <td>2021-08-12 13:42:23</td>\n",
       "      <td>9355036811085</td>\n",
       "      <td>Supermarkets</td>\n",
       "      <td>Marrickville Metro</td>\n",
       "      <td>1649</td>\n",
       "      <td>91.10</td>\n",
       "      <td>116.0</td>\n",
       "      <td>144.0</td>\n",
       "      <td>260.0</td>\n",
       "    </tr>\n",
       "  </tbody>\n",
       "</table>\n",
       "</div>"
      ],
      "text/plain": [
       "                                          Date    Card Number         Brand  \\\n",
       "basketKey                                                                     \n",
       "20210825154930003074446649 2021-08-25 15:49:54  9355036811085           BWS   \n",
       "20210825154136083078961649 2021-08-25 15:43:45  9355036811085  Supermarkets   \n",
       "20210821162427062077961149 2021-08-21 16:25:09  9355036811085  Supermarkets   \n",
       "20210817123756068068201649 2021-08-17 12:41:30  9355036811085  Supermarkets   \n",
       "20210812133907066045471649 2021-08-12 13:42:23  9355036811085  Supermarkets   \n",
       "\n",
       "                                             Store Store Number  \\\n",
       "basketKey                                                         \n",
       "20210825154930003074446649  Marrickville Metro BWS         6649   \n",
       "20210825154136083078961649      Marrickville Metro         1649   \n",
       "20210821162427062077961149            Marrickville         1149   \n",
       "20210817123756068068201649      Marrickville Metro         1649   \n",
       "20210812133907066045471649      Marrickville Metro         1649   \n",
       "\n",
       "                            Receipt Total  Rewards Points  Extra Bonus Points  \\\n",
       "basketKey                                                                       \n",
       "20210825154930003074446649          40.00            40.0                 0.0   \n",
       "20210825154136083078961649          49.72            50.0                 0.0   \n",
       "20210821162427062077961149          20.94            20.0                 0.0   \n",
       "20210817123756068068201649          93.34            94.0                 0.0   \n",
       "20210812133907066045471649          91.10           116.0               144.0   \n",
       "\n",
       "                            Total Points  \n",
       "basketKey                                 \n",
       "20210825154930003074446649          40.0  \n",
       "20210825154136083078961649          50.0  \n",
       "20210821162427062077961149          20.0  \n",
       "20210817123756068068201649          94.0  \n",
       "20210812133907066045471649         260.0  "
      ]
     },
     "execution_count": 10,
     "metadata": {},
     "output_type": "execute_result"
    }
   ],
   "source": [
    "## _transactions_extractor()\n",
    "#         '''Main method extracting/cleaning/interpreting data _for transactions_ -\n",
    "#         very source-specific. Extract (column by column) list of transactions\n",
    "#         (individual shop visits) from raw data.\n",
    "#         Add a code block here if you want an extra column in the transactions\n",
    "#         table. '''\n",
    "\n",
    "index = data.index\n",
    "output = pd.DataFrame(index=index)\n",
    "\n",
    "# remove/process 'miscellaneous' rows\n",
    "# 'AllStores' seems correspond to bonus transactions, we don't need it for viz\n",
    "rows_to_drop = index[(data['storeName'] == 'AllStores')]\n",
    "\n",
    "# rows with label (Bonus) are should be glued with corresponding in-shop transactions.\n",
    "bonus_rows = index[data.storeName.str.contains('\\\\(Bonus\\\\)')]\n",
    "c_bonusPoints = pd.Series(index=index, dtype=float)\n",
    "for i, row in data.loc[bonus_rows].iterrows():\n",
    "    i_t = i[:14] + '0' + i[15:]\n",
    "    c_bonusPoints[i_t] = float(row['pointEarn'])\n",
    "output['Extra Bonus Points'] = c_bonusPoints.fillna(0)\n",
    "\n",
    "rows_to_drop = rows_to_drop.union(bonus_rows)\n",
    "\n",
    "# Parse Date column (inc. time)\n",
    "c_Date = pd.to_datetime(data['transactionDate'])\n",
    "output['Date'] = c_Date\n",
    "\n",
    "# parse CardNumber\n",
    "c_CardNumber = data['cardNo'].combine_first(data['card'])\n",
    "output['Card Number'] = c_CardNumber\n",
    "\n",
    "# parse division - bws, bigw or supermarket - based on Banner field\n",
    "\n",
    "c_Division = data['banner'].replace(WWData.DIVISIONS).fillna('Other')\n",
    "output['Brand'] = c_Division\n",
    "\n",
    "# parse store number\n",
    "c_StoreNumber = data['storeNo']\n",
    "output['Store Number'] = c_StoreNumber\n",
    "\n",
    "# parse store name (earlier in time it was combined with store number, cleaning it up)\n",
    "c_StoreName = data['storeName'].str.replace(\n",
    "    '^[0-9]{4}\\\\s', '', regex=True)\n",
    "output['Store'] = c_StoreName\n",
    "\n",
    "# parse store address TODO - prettify addressess\n",
    "# c_StoreAddress = data['ReceiptDetailsHeader']\n",
    "#     res = []\n",
    "#     for e in column:\n",
    "#         if type(e)==float:\n",
    "#             res.append('-')\n",
    "#         elif type(e)==list:\n",
    "#             res.append(e[0]['content'])\n",
    "#         else:\n",
    "#             res.append(e['content'])\n",
    "#     return pd.Series(res, dtype=str)\n",
    "\n",
    "# receipt Total\n",
    "c_Total = data['totalSpent'].str.replace(\n",
    "    '\\\\$', '', regex=True).astype('float')\n",
    "output['Receipt Total'] = c_Total\n",
    "\n",
    "# PointsEarned\n",
    "# TODO: try to retrieve point from ereceipts where points are not available (old transactions)\n",
    "c_PointsEarned = data['totalPointsEarned'].replace(\n",
    "    '', '0', ).astype(float)\n",
    "output['Rewards Points'] = c_PointsEarned\n",
    "\n",
    "output['Total Points'] = output.apply(\n",
    "    lambda x: x['Rewards Points'] + x['Extra Bonus Points'], axis=1)\n",
    "\n",
    "return_columns = ['Date', 'Card Number', 'Brand', 'Store', 'Store Number', 'Receipt Total',\n",
    "                  'Rewards Points', 'Extra Bonus Points', 'Total Points', ]\n",
    "\n",
    "ww.transactions = output[return_columns].drop(rows_to_drop)\n",
    "ww.transactions.head()"
   ]
  },
  {
   "cell_type": "code",
   "execution_count": 11,
   "id": "c4e15638-0df1-4aa7-a782-e058973d1ad7",
   "metadata": {},
   "outputs": [
    {
     "data": {
      "text/html": [
       "<div>\n",
       "<style scoped>\n",
       "    .dataframe tbody tr th:only-of-type {\n",
       "        vertical-align: middle;\n",
       "    }\n",
       "\n",
       "    .dataframe tbody tr th {\n",
       "        vertical-align: top;\n",
       "    }\n",
       "\n",
       "    .dataframe thead th {\n",
       "        text-align: right;\n",
       "    }\n",
       "</style>\n",
       "<table border=\"1\" class=\"dataframe\">\n",
       "  <thead>\n",
       "    <tr style=\"text-align: right;\">\n",
       "      <th></th>\n",
       "      <th></th>\n",
       "      <th>Product</th>\n",
       "      <th>Price Per Unit</th>\n",
       "      <th>Quantity</th>\n",
       "      <th>Unit</th>\n",
       "      <th>Price Total</th>\n",
       "    </tr>\n",
       "    <tr>\n",
       "      <th>basketKey</th>\n",
       "      <th>nn</th>\n",
       "      <th></th>\n",
       "      <th></th>\n",
       "      <th></th>\n",
       "      <th></th>\n",
       "      <th></th>\n",
       "    </tr>\n",
       "  </thead>\n",
       "  <tbody>\n",
       "    <tr>\n",
       "      <th>20210825154930003074446649</th>\n",
       "      <th>1</th>\n",
       "      <td>Baileys Irish Cream 1l</td>\n",
       "      <td>40.00</td>\n",
       "      <td>1.000</td>\n",
       "      <td>pc</td>\n",
       "      <td>40.00</td>\n",
       "    </tr>\n",
       "    <tr>\n",
       "      <th rowspan=\"4\" valign=\"top\">20210825154136083078961649</th>\n",
       "      <th>1</th>\n",
       "      <td>Tomato Gourmet</td>\n",
       "      <td>5.90</td>\n",
       "      <td>0.407</td>\n",
       "      <td>kg</td>\n",
       "      <td>2.40</td>\n",
       "    </tr>\n",
       "    <tr>\n",
       "      <th>2</th>\n",
       "      <td>Coca Cola Drink Vanilla 1.25l</td>\n",
       "      <td>1.95</td>\n",
       "      <td>1.000</td>\n",
       "      <td>pc</td>\n",
       "      <td>1.95</td>\n",
       "    </tr>\n",
       "    <tr>\n",
       "      <th>3</th>\n",
       "      <td>WW Drought Relief Whole Milk 2L</td>\n",
       "      <td>2.39</td>\n",
       "      <td>1.000</td>\n",
       "      <td>pc</td>\n",
       "      <td>2.39</td>\n",
       "    </tr>\n",
       "    <tr>\n",
       "      <th>4</th>\n",
       "      <td>Devondale Cream Thick L/Life 250ml</td>\n",
       "      <td>2.80</td>\n",
       "      <td>1.000</td>\n",
       "      <td>pc</td>\n",
       "      <td>2.80</td>\n",
       "    </tr>\n",
       "  </tbody>\n",
       "</table>\n",
       "</div>"
      ],
      "text/plain": [
       "                                                          Product  \\\n",
       "basketKey                  nn                                       \n",
       "20210825154930003074446649 1               Baileys Irish Cream 1l   \n",
       "20210825154136083078961649 1                       Tomato Gourmet   \n",
       "                           2        Coca Cola Drink Vanilla 1.25l   \n",
       "                           3      WW Drought Relief Whole Milk 2L   \n",
       "                           4   Devondale Cream Thick L/Life 250ml   \n",
       "\n",
       "                               Price Per Unit  Quantity Unit  Price Total  \n",
       "basketKey                  nn                                              \n",
       "20210825154930003074446649 1            40.00     1.000   pc        40.00  \n",
       "20210825154136083078961649 1             5.90     0.407   kg         2.40  \n",
       "                           2             1.95     1.000   pc         1.95  \n",
       "                           3             2.39     1.000   pc         2.39  \n",
       "                           4             2.80     1.000   pc         2.80  "
      ]
     },
     "execution_count": 11,
     "metadata": {},
     "output_type": "execute_result"
    }
   ],
   "source": [
    "# _items_extractor()\n",
    "\n",
    "# '''Similar extractor function but for the items table.\n",
    "# Add a core block here if you want another column in the item table.\n",
    "# It mostly uses ReceiptDetailsItems column in pandas raw data.'''\n",
    "# in the input file the ereceipts data is stored in columns with names\n",
    "# starting 'ReceiptDetails' in particular, items from ereceipts are in\n",
    "# ReceiptDetailsItems. It has (had?) random dtypes, so need to\n",
    "# correct for this.\n",
    "# Index (basketKey) that we want to preserve for future use (i.e.\n",
    "# joins with transaction-level data)\n",
    "# We are dropping transactions data where ereceipts unavailable\n",
    "# then correct for the fact that some jsons in this column stored\n",
    "# as dict within lists (while some - just as dicts)\n",
    "# append basketKey to cell's content for later use\n",
    "# (because pandas function 'json_normalize' doesn't carry over these\n",
    "# index values)\n",
    "\n",
    "items_json_column = pd_tbl['ReceiptDetailsItems'].dropna().\\\n",
    "    apply(lambda x: x[0] if type(x) == list else x).\\\n",
    "    reset_index().\\\n",
    "    apply(lambda x: x[1] | {'basketKey': x[0]}, axis=1)\n",
    "\n",
    "items_expand = pd.json_normalize(items_json_column, record_path=[\n",
    "                                 'items', ], meta=['basketKey', ])\n",
    "\n",
    "# Some items can occupy 2-3 lines in the file: i.e. weighted items,\n",
    "# multiple items in one line, also notes\n",
    "# like 'price reduces' are put on a separate lines. Tidying it:\n",
    "\n",
    "for row_n, row_values in items_expand.iloc[0:, :].iterrows():\n",
    "    if row_values['amount'] != '':\n",
    "        items_expand.loc[row_n,\n",
    "                         '_description_clean_1'] = row_values['description']\n",
    "        if (row_n != 0):\n",
    "            if ((items_expand.loc[row_n-1, 'amount'] == '')\n",
    "                    and (not('PRICE REDUCED' in items_expand.loc[row_n-1, 'description']))):\n",
    "                items_expand.loc[row_n, '_description_clean_1'] =\\\n",
    "                    items_expand.loc[row_n-1, 'description'] + \\\n",
    "                    ' ' + row_values['description']\n",
    "\n",
    "#  lines below work but excluded for timebeing as are not used\n",
    "#                 if (row_n < items_expand.shape[0]-1):\n",
    "#                     if ((items_expand.loc[row_n+1, 'amount']=='') and ('PRICE REDUCED' in items_expand.loc[row_n+1, 'description'])):\n",
    "#                         items_expand.loc[row_n, 'reducedNote'] = items_expand.loc[row_n+1, 'description']\n",
    "\n",
    "#        items_expand.fillna({'reducedNote': ''}, inplace=True)\n",
    "\n",
    "items = items_expand[items_expand.amount != ''].copy()\n",
    "\n",
    "# hash symbol prefix means specials, wipe it out of description\n",
    "#        items['hashCharFlag'] = items['_description_clean_1'].str.startswith('#')\n",
    "_description_clean_2 = items['_description_clean_1'].str.replace(\n",
    "    '^#', '', regex=True)\n",
    "\n",
    "# extract info from description field (i.e. per unit price).\n",
    "weighted_items = _description_clean_2.\\\n",
    "    str.extract(\n",
    "        '^(?P<productname>.+)\\\\s(?P<quantity>[0-9]+\\\\.[0-9]+) (?P<unit>[a-y]+) NET @ \\\\$(?P<price>[0-9]+\\\\.[0-9]+)/[a-y]+')\n",
    "\n",
    "multiple_items = _description_clean_2.\\\n",
    "    str.extract(\n",
    "        \"^(?P<productname>.+) Qty (?P<quantity>[0-9]+) @ \\\\$(?P<price>[0-9]+\\\\.[0-9]+) each\")\n",
    "\n",
    "items['Price Per Unit'] = weighted_items['price'].combine_first(\n",
    "    multiple_items['price']).combine_first(items['amount']).astype('float')\n",
    "items['Unit'] = weighted_items['unit'].fillna('pc')\n",
    "items['Quantity'] = weighted_items['quantity'].combine_first(\n",
    "    multiple_items['quantity']).fillna(1).astype('float')\n",
    "items['Product'] = weighted_items['productname'].combine_first(\n",
    "    multiple_items['productname']).combine_first(_description_clean_2)\n",
    "items['Price Total'] = items['amount'].astype('float')\n",
    "\n",
    "items.set_index(keys=[items['basketKey'],\n",
    "                      (items[['basketKey']].groupby('basketKey').cumcount()+1).rename('nn'), ], inplace=True)\n",
    "\n",
    "return_columns = ['Product', 'Price Per Unit',\n",
    "                  'Quantity', 'Unit', 'Price Total', ]\n",
    "#return\n",
    "ww.items = items[return_columns]\n",
    "ww.items.head()"
   ]
  },
  {
   "cell_type": "code",
   "execution_count": 23,
   "id": "e0207aee-ef91-4b98-8ebd-7ea4ccabc638",
   "metadata": {},
   "outputs": [],
   "source": [
    "# data_summary()\n",
    "#     \"\"\"This function provides summarised data and visual objects for\n",
    "#     presenting them at the dashboard. Takes WWobject and returns a dictionary\n",
    "#     with various summary metrics and visual objects (plotly plots).\"\"\"\n",
    "#     # Add blocks here if we need mode summarised data plotted on the dashboad\n",
    "\n",
    "# Data Preparation\n",
    "today = pd.Timestamp.today()\n",
    "filter1year = ww.transactions[\"Date\"] > today.replace(year=today.year-1)\n",
    "\n",
    "favstores_groups = ww.transactions.\\\n",
    "    groupby('Store')['Receipt Total']\n",
    "\n",
    "favstores = pd.DataFrame(\n",
    "                    {'Spent $': favstores_groups.sum().round(2),\n",
    "                     'Visits': favstores_groups.count(),\n",
    "                     }\n",
    "                    ).sort_values(by=['Spent $',], ascending=False)[0:9]\n",
    "\n",
    "fav_product_count = ww.items.groupby(by='Product', axis=0)[\"Quantity\"].\\\n",
    "    sum().sort_values(ascending=False)[0:9].rename('Ea')\n",
    "\n",
    "fav_product_spent = ww.items.groupby(by='Product', axis=0)[\"Price Total\"].\\\n",
    "    sum().sort_values(ascending=False).round(2)[0:9].rename('$$').\\\n",
    "    apply(lambda x:  \"{:,.2f}\".format(x))\n",
    "\n",
    "data_content = {\n",
    "    'Year Total': ww.transactions.loc[filter1year,\n",
    "                                      \"Receipt Total\"].sum().round(2),\n",
    "    'Average Bill': ww.transactions[\"Receipt Total\"].mean().round(2),\n",
    "    \"Top Bill\": ww.transactions[\"Receipt Total\"].max().round(2),\n",
    "    \"Favourite Stores\": favstores.reset_index(),\n",
    "    \"Favorite Products Count\": pd.DataFrame(fav_product_count).reset_index(),\n",
    "    'Favorite Products Spent': pd.DataFrame(fav_product_spent).reset_index(),\n",
    "    }\n",
    "\n",
    "# PLOTS\n",
    "# Plot 1\n",
    "st_date_w = ww.transactions['Date'].dt.to_period('w').dt.start_time.min()\n",
    "fi_date_w = ww.transactions['Date'].dt.to_period(\n",
    "    'w').dt.start_time.max() + pd.Timedelta('1W')\n",
    "st_date_m = ww.transactions['Date'].dt.to_period('M').dt.start_time.min()\n",
    "fi_date_m = (ww.transactions['Date'].dt.to_period(\n",
    "    'M').dt.start_time.max() + pd.Timedelta('32D')).replace(day=1)\n",
    "xbins = {'weeks': {'start': st_date_w, 'size': 6.048e8, 'end': fi_date_w},\n",
    "         'months': {'start': st_date_m, 'size': 'M1', 'end': fi_date_m}, }\n",
    "\n",
    "fig = px.histogram(ww.transactions, x='Date', y='Receipt Total',\n",
    "                   histfunc=\"sum\",\n",
    "                   color='Brand',\n",
    "                   template='seaborn',\n",
    "                   height=700,\n",
    "                   )\n",
    "\n",
    "fig.update_xaxes(showgrid=True,\n",
    "                 ticklabelmode=\"period\",\n",
    "                 rangeslider_visible=True,\n",
    "                 tick0=st_date_w,\n",
    "                 dtick=6.048e8,\n",
    "                 tickfont={'size': 11, 'color': 'gray'},\n",
    "                 tickformat=\"%d.%m.%y\",\n",
    "                 title_text=None)\n",
    "\n",
    "fig.update_traces(xbins=xbins['weeks'],)\n",
    "\n",
    "fig.update_layout(bargap=0.1,\n",
    "                  yaxis_title='Total Spent',\n",
    "                  updatemenus=[\n",
    "                      dict(\n",
    "                          buttons=list([\n",
    "                              dict(\n",
    "                                  args=[{'xbins': xbins['weeks']},\n",
    "                                        {'xaxis.tick0': st_date_w,\n",
    "                                         'xaxis.dtick': 6.048e8,\n",
    "                                         'xaxis.tickformat': \"%d.%m.%y\",\n",
    "                                         'shapes[1].visible': False,\n",
    "                                         'shapes[0].visible': True,\n",
    "                                         'annotations[0].visible': True,\n",
    "                                         'annotations[1].visible': False},\n",
    "                                        ],\n",
    "                                  label=\"Weekly\",\n",
    "                                  method=\"update\"\n",
    "                                  ),\n",
    "                              dict(\n",
    "                                  args=[{'xbins': xbins['months']},\n",
    "                                        {'xaxis.tick0': st_date_m,\n",
    "                                         'xaxis.dtick': 'M1',\n",
    "                                         'xaxis.tickformat': '%b\\n%Y',\n",
    "                                         'shapes[1].visible': True,\n",
    "                                         'shapes[0].visible': False,\n",
    "                                         'annotations[1].visible': True,\n",
    "                                         'annotations[0].visible': False\n",
    "                                         }\n",
    "                                        ],\n",
    "                                  label=\"Monthly\",\n",
    "                                  method=\"update\"\n",
    "                                  ),\n",
    "                              ]),\n",
    "                          type=\"buttons\",\n",
    "                          direction=\"left\",\n",
    "                          pad={\"r\": 5, \"t\": 5},\n",
    "                          showactive=True,\n",
    "                          x=0.50,\n",
    "                          xanchor=\"center\",\n",
    "                          y=1.02,\n",
    "                          yanchor=\"bottom\"\n",
    "                          ), ])\n",
    "data_content['Plot Timeline'] = fig\n",
    "\n",
    "#  Plot 2\n",
    "fig_2 = px.bar(data_frame=ww.transactions,\n",
    "               y='Card Number',\n",
    "               x='Receipt Total',\n",
    "               color='Brand',\n",
    "               orientation='h',\n",
    "               template='seaborn',\n",
    "               height=300,\n",
    "               )\n",
    "\n",
    "fig_2.update_layout(showlegend=True)\n",
    "fig_2.update_yaxes(title_text=None, showticklabels=False)\n",
    "fig_2.update_xaxes(title_text=None)\n",
    "\n",
    "data_content['Plot Brands'] = fig_2\n",
    "\n",
    "# return data_content"
   ]
  },
  {
   "cell_type": "code",
   "execution_count": 24,
   "id": "f4dc2fb7-18e7-4c04-94d1-179323e4c9f3",
   "metadata": {},
   "outputs": [
    {
     "name": "stdout",
     "output_type": "stream",
     "text": [
      "Your total spent $3426.88 over 12 months to the day in all stores\n",
      "You spent $36.98 in one shop on average\n",
      "You paid $93.34 for your biggest shop\n"
     ]
    }
   ],
   "source": [
    "print(\"Your total spent ${} over 12 months to the day in all stores\".format( data_content['Year Total']))\n",
    "print(\"You spent ${} in one shop on average\".format(data_content['Average Bill']))\n",
    "print(\"You paid ${} for your biggest shop\".format(data_content['Top Bill']))"
   ]
  },
  {
   "cell_type": "code",
   "execution_count": 27,
   "id": "784c2a6b-e4f6-405c-8323-2803a0af2009",
   "metadata": {},
   "outputs": [
    {
     "data": {
      "application/vnd.plotly.v1+json": {
       "config": {
        "plotlyServerURL": "https://plot.ly"
       },
       "data": [
        {
         "alignmentgroup": "True",
         "bingroup": "x",
         "histfunc": "sum",
         "hovertemplate": "Brand=BWS<br>Date=%{x}<br>sum of Receipt Total=%{y}<extra></extra>",
         "legendgroup": "BWS",
         "marker": {
          "color": "rgb(76,114,176)",
          "pattern": {
           "shape": ""
          }
         },
         "name": "BWS",
         "offsetgroup": "BWS",
         "orientation": "v",
         "showlegend": true,
         "type": "histogram",
         "x": [
          "2021-08-25T15:49:54"
         ],
         "xaxis": "x",
         "xbins": {
          "end": "2021-08-30T00:00:00",
          "size": 604800000,
          "start": "2020-06-01T00:00:00"
         },
         "y": [
          40
         ],
         "yaxis": "y"
        },
        {
         "alignmentgroup": "True",
         "bingroup": "x",
         "histfunc": "sum",
         "hovertemplate": "Brand=Supermarkets<br>Date=%{x}<br>sum of Receipt Total=%{y}<extra></extra>",
         "legendgroup": "Supermarkets",
         "marker": {
          "color": "rgb(221,132,82)",
          "pattern": {
           "shape": ""
          }
         },
         "name": "Supermarkets",
         "offsetgroup": "Supermarkets",
         "orientation": "v",
         "showlegend": true,
         "type": "histogram",
         "x": [
          "2021-08-25T15:43:45",
          "2021-08-21T16:25:09",
          "2021-08-17T12:41:30",
          "2021-08-12T13:42:23",
          "2021-08-08T12:28:39",
          "2021-08-03T12:59:29",
          "2021-07-30T15:24:50",
          "2021-07-28T12:47:31",
          "2021-07-20T13:00:12",
          "2021-07-14T13:25:47",
          "2021-07-13T14:01:00",
          "2021-07-11T18:17:22",
          "2021-07-06T14:12:52",
          "2021-06-29T14:33:02",
          "2021-06-21T16:42:14",
          "2021-06-20T14:06:33",
          "2021-06-16T18:57:08",
          "2021-06-16T13:38:09",
          "2021-06-13T16:46:54",
          "2021-06-07T18:45:36",
          "2021-06-01T16:43:05",
          "2021-05-31T15:17:40",
          "2021-05-26T21:57:10",
          "2021-05-22T22:49:51",
          "2021-05-17T19:01:22",
          "2021-05-11T11:58:15",
          "2021-05-10T14:47:05",
          "2021-05-04T14:05:54",
          "2021-05-03T15:34:29",
          "2021-04-30T10:47:45",
          "2021-04-28T11:35:51",
          "2021-04-26T19:07:44",
          "2021-04-21T16:40:39",
          "2021-04-19T18:58:58",
          "2021-04-12T18:57:51",
          "2021-04-09T11:13:05",
          "2021-04-09T09:36:50",
          "2021-04-06T11:09:37",
          "2021-03-30T14:15:46",
          "2021-03-29T17:34:09",
          "2021-03-26T11:17:49",
          "2021-03-22T18:01:56",
          "2021-03-16T14:01:16",
          "2021-03-15T17:28:40",
          "2021-03-09T12:54:35",
          "2021-03-09T12:18:30",
          "2021-03-05T10:04:20",
          "2021-03-01T19:02:44",
          "2021-03-01T17:34:01",
          "2021-02-27T16:04:13",
          "2021-02-22T17:29:34",
          "2021-02-22T10:24:36",
          "2021-02-16T10:49:04",
          "2021-02-10T13:51:11",
          "2021-02-07T15:51:00",
          "2021-02-02T13:51:27",
          "2021-01-29T19:41:40",
          "2021-01-28T21:32:59",
          "2021-01-20T10:19:44",
          "2021-01-13T19:52:43",
          "2021-01-06T12:29:55",
          "2021-01-01T17:10:51",
          "2020-12-28T14:33:36",
          "2020-12-23T20:08:14",
          "2020-12-22T14:29:26",
          "2020-12-16T10:57:08",
          "2020-12-11T20:13:18",
          "2020-12-07T13:52:47",
          "2020-12-02T17:07:05",
          "2020-11-25T17:10:56",
          "2020-11-23T18:50:28",
          "2020-11-19T11:19:25",
          "2020-11-18T12:29:01",
          "2020-11-16T17:34:05",
          "2020-11-11T17:59:03",
          "2020-11-04T12:27:21",
          "2020-11-04T12:12:19",
          "2020-10-29T11:29:07",
          "2020-10-26T12:24:59",
          "2020-10-26T11:36:06",
          "2020-10-21T11:23:19",
          "2020-10-19T12:44:22",
          "2020-10-12T14:22:36",
          "2020-10-06T16:39:27",
          "2020-10-01T14:44:34",
          "2020-09-24T12:23:42",
          "2020-09-19T17:24:29",
          "2020-09-14T13:35:19",
          "2020-09-09T14:37:45",
          "2020-09-06T17:34:34",
          "2020-09-02T14:39:11",
          "2020-08-24T16:02:27",
          "2020-08-17T15:31:40",
          "2020-08-14T17:11:26",
          "2020-08-06T13:14:45",
          "2020-08-03T16:55:14",
          "2020-08-01T16:41:51",
          "2020-07-27T11:27:34",
          "2020-07-21T13:52:33",
          "2020-07-17T17:02:43",
          "2020-07-13T14:20:24",
          "2020-07-09T14:46:20",
          "2020-06-29T15:25:33",
          "2020-06-22T14:21:36",
          "2020-06-15T11:32:42",
          "2020-06-11T17:47:37",
          "2020-06-03T10:44:41"
         ],
         "xaxis": "x",
         "xbins": {
          "end": "2021-08-30T00:00:00",
          "size": 604800000,
          "start": "2020-06-01T00:00:00"
         },
         "y": [
          49.72,
          20.94,
          93.34,
          91.1,
          18.32,
          85.48,
          22.15,
          64.82,
          80,
          22.09,
          70,
          26.54,
          46.52,
          80,
          40,
          4.8,
          10.41,
          83,
          29.68,
          54,
          9.3,
          78.24,
          32.07,
          40,
          29.39,
          64.91,
          4.82,
          64.34,
          5.4,
          24.55,
          5.65,
          50.84,
          3,
          29,
          24,
          12.45,
          8.31,
          38,
          50,
          4.56,
          24.26,
          39,
          63.03,
          5.76,
          44.97,
          1.6,
          17.94,
          33.66,
          3.74,
          4.8,
          7,
          35.11,
          32.85,
          51.01,
          15.19,
          58.22,
          30.07,
          31.47,
          77.96,
          55.55,
          61.26,
          42.79,
          34.58,
          36,
          9,
          65,
          11.1,
          70,
          70,
          59,
          8.1,
          18.7,
          29.89,
          13.12,
          64,
          4.1,
          16.7,
          44.4,
          22.6,
          4.4,
          8.7,
          85.64,
          53.3,
          41.57,
          68.95,
          45.79,
          34.64,
          49.52,
          31.68,
          12.8,
          53.72,
          38.59,
          29.91,
          32.8,
          27.29,
          75.65,
          64.6,
          21.11,
          23.67,
          3.6,
          23.21,
          50.7,
          44.7,
          32.75,
          6.3,
          56.47,
          38.23
         ],
         "yaxis": "y"
        },
        {
         "alignmentgroup": "True",
         "bingroup": "x",
         "histfunc": "sum",
         "hovertemplate": "Brand=Other<br>Date=%{x}<br>sum of Receipt Total=%{y}<extra></extra>",
         "legendgroup": "Other",
         "marker": {
          "color": "rgb(85,168,104)",
          "pattern": {
           "shape": ""
          }
         },
         "name": "Other",
         "offsetgroup": "Other",
         "orientation": "v",
         "showlegend": true,
         "type": "histogram",
         "x": [
          "2021-07-27T10:48:58",
          "2021-07-11T16:10:43",
          "2021-06-19T14:02:59",
          "2021-06-06T14:14:04"
         ],
         "xaxis": "x",
         "xbins": {
          "end": "2021-08-30T00:00:00",
          "size": 604800000,
          "start": "2020-06-01T00:00:00"
         },
         "y": [
          24.08,
          48.97,
          51.35,
          63.06
         ],
         "yaxis": "y"
        },
        {
         "alignmentgroup": "True",
         "bingroup": "x",
         "histfunc": "sum",
         "hovertemplate": "Brand=WW Metro<br>Date=%{x}<br>sum of Receipt Total=%{y}<extra></extra>",
         "legendgroup": "WW Metro",
         "marker": {
          "color": "rgb(196,78,82)",
          "pattern": {
           "shape": ""
          }
         },
         "name": "WW Metro",
         "offsetgroup": "WW Metro",
         "orientation": "v",
         "showlegend": true,
         "type": "histogram",
         "x": [
          "2021-04-11T16:42:06"
         ],
         "xaxis": "x",
         "xbins": {
          "end": "2021-08-30T00:00:00",
          "size": 604800000,
          "start": "2020-06-01T00:00:00"
         },
         "y": [
          5.8
         ],
         "yaxis": "y"
        }
       ],
       "layout": {
        "autosize": true,
        "bargap": 0.1,
        "barmode": "relative",
        "legend": {
         "title": {
          "text": "Brand"
         },
         "tracegroupgap": 0
        },
        "margin": {
         "t": 60
        },
        "template": {
         "data": {
          "bar": [
           {
            "error_x": {
             "color": "rgb(36,36,36)"
            },
            "error_y": {
             "color": "rgb(36,36,36)"
            },
            "marker": {
             "line": {
              "color": "rgb(234,234,242)",
              "width": 0.5
             },
             "pattern": {
              "fillmode": "overlay",
              "size": 10,
              "solidity": 0.2
             }
            },
            "type": "bar"
           }
          ],
          "barpolar": [
           {
            "marker": {
             "line": {
              "color": "rgb(234,234,242)",
              "width": 0.5
             },
             "pattern": {
              "fillmode": "overlay",
              "size": 10,
              "solidity": 0.2
             }
            },
            "type": "barpolar"
           }
          ],
          "carpet": [
           {
            "aaxis": {
             "endlinecolor": "rgb(36,36,36)",
             "gridcolor": "white",
             "linecolor": "white",
             "minorgridcolor": "white",
             "startlinecolor": "rgb(36,36,36)"
            },
            "baxis": {
             "endlinecolor": "rgb(36,36,36)",
             "gridcolor": "white",
             "linecolor": "white",
             "minorgridcolor": "white",
             "startlinecolor": "rgb(36,36,36)"
            },
            "type": "carpet"
           }
          ],
          "choropleth": [
           {
            "colorbar": {
             "outlinewidth": 0,
             "tickcolor": "rgb(36,36,36)",
             "ticklen": 8,
             "ticks": "outside",
             "tickwidth": 2
            },
            "type": "choropleth"
           }
          ],
          "contour": [
           {
            "colorbar": {
             "outlinewidth": 0,
             "tickcolor": "rgb(36,36,36)",
             "ticklen": 8,
             "ticks": "outside",
             "tickwidth": 2
            },
            "colorscale": [
             [
              0,
              "rgb(2,4,25)"
             ],
             [
              0.06274509803921569,
              "rgb(24,15,41)"
             ],
             [
              0.12549019607843137,
              "rgb(47,23,57)"
             ],
             [
              0.18823529411764706,
              "rgb(71,28,72)"
             ],
             [
              0.25098039215686274,
              "rgb(97,30,82)"
             ],
             [
              0.3137254901960784,
              "rgb(123,30,89)"
             ],
             [
              0.3764705882352941,
              "rgb(150,27,91)"
             ],
             [
              0.4392156862745098,
              "rgb(177,22,88)"
             ],
             [
              0.5019607843137255,
              "rgb(203,26,79)"
             ],
             [
              0.5647058823529412,
              "rgb(223,47,67)"
             ],
             [
              0.6274509803921569,
              "rgb(236,76,61)"
             ],
             [
              0.6901960784313725,
              "rgb(242,107,73)"
             ],
             [
              0.7529411764705882,
              "rgb(244,135,95)"
             ],
             [
              0.8156862745098039,
              "rgb(245,162,122)"
             ],
             [
              0.8784313725490196,
              "rgb(246,188,153)"
             ],
             [
              0.9411764705882353,
              "rgb(247,212,187)"
             ],
             [
              1,
              "rgb(250,234,220)"
             ]
            ],
            "type": "contour"
           }
          ],
          "contourcarpet": [
           {
            "colorbar": {
             "outlinewidth": 0,
             "tickcolor": "rgb(36,36,36)",
             "ticklen": 8,
             "ticks": "outside",
             "tickwidth": 2
            },
            "type": "contourcarpet"
           }
          ],
          "heatmap": [
           {
            "colorbar": {
             "outlinewidth": 0,
             "tickcolor": "rgb(36,36,36)",
             "ticklen": 8,
             "ticks": "outside",
             "tickwidth": 2
            },
            "colorscale": [
             [
              0,
              "rgb(2,4,25)"
             ],
             [
              0.06274509803921569,
              "rgb(24,15,41)"
             ],
             [
              0.12549019607843137,
              "rgb(47,23,57)"
             ],
             [
              0.18823529411764706,
              "rgb(71,28,72)"
             ],
             [
              0.25098039215686274,
              "rgb(97,30,82)"
             ],
             [
              0.3137254901960784,
              "rgb(123,30,89)"
             ],
             [
              0.3764705882352941,
              "rgb(150,27,91)"
             ],
             [
              0.4392156862745098,
              "rgb(177,22,88)"
             ],
             [
              0.5019607843137255,
              "rgb(203,26,79)"
             ],
             [
              0.5647058823529412,
              "rgb(223,47,67)"
             ],
             [
              0.6274509803921569,
              "rgb(236,76,61)"
             ],
             [
              0.6901960784313725,
              "rgb(242,107,73)"
             ],
             [
              0.7529411764705882,
              "rgb(244,135,95)"
             ],
             [
              0.8156862745098039,
              "rgb(245,162,122)"
             ],
             [
              0.8784313725490196,
              "rgb(246,188,153)"
             ],
             [
              0.9411764705882353,
              "rgb(247,212,187)"
             ],
             [
              1,
              "rgb(250,234,220)"
             ]
            ],
            "type": "heatmap"
           }
          ],
          "heatmapgl": [
           {
            "colorbar": {
             "outlinewidth": 0,
             "tickcolor": "rgb(36,36,36)",
             "ticklen": 8,
             "ticks": "outside",
             "tickwidth": 2
            },
            "colorscale": [
             [
              0,
              "rgb(2,4,25)"
             ],
             [
              0.06274509803921569,
              "rgb(24,15,41)"
             ],
             [
              0.12549019607843137,
              "rgb(47,23,57)"
             ],
             [
              0.18823529411764706,
              "rgb(71,28,72)"
             ],
             [
              0.25098039215686274,
              "rgb(97,30,82)"
             ],
             [
              0.3137254901960784,
              "rgb(123,30,89)"
             ],
             [
              0.3764705882352941,
              "rgb(150,27,91)"
             ],
             [
              0.4392156862745098,
              "rgb(177,22,88)"
             ],
             [
              0.5019607843137255,
              "rgb(203,26,79)"
             ],
             [
              0.5647058823529412,
              "rgb(223,47,67)"
             ],
             [
              0.6274509803921569,
              "rgb(236,76,61)"
             ],
             [
              0.6901960784313725,
              "rgb(242,107,73)"
             ],
             [
              0.7529411764705882,
              "rgb(244,135,95)"
             ],
             [
              0.8156862745098039,
              "rgb(245,162,122)"
             ],
             [
              0.8784313725490196,
              "rgb(246,188,153)"
             ],
             [
              0.9411764705882353,
              "rgb(247,212,187)"
             ],
             [
              1,
              "rgb(250,234,220)"
             ]
            ],
            "type": "heatmapgl"
           }
          ],
          "histogram": [
           {
            "marker": {
             "pattern": {
              "fillmode": "overlay",
              "size": 10,
              "solidity": 0.2
             }
            },
            "type": "histogram"
           }
          ],
          "histogram2d": [
           {
            "colorbar": {
             "outlinewidth": 0,
             "tickcolor": "rgb(36,36,36)",
             "ticklen": 8,
             "ticks": "outside",
             "tickwidth": 2
            },
            "colorscale": [
             [
              0,
              "rgb(2,4,25)"
             ],
             [
              0.06274509803921569,
              "rgb(24,15,41)"
             ],
             [
              0.12549019607843137,
              "rgb(47,23,57)"
             ],
             [
              0.18823529411764706,
              "rgb(71,28,72)"
             ],
             [
              0.25098039215686274,
              "rgb(97,30,82)"
             ],
             [
              0.3137254901960784,
              "rgb(123,30,89)"
             ],
             [
              0.3764705882352941,
              "rgb(150,27,91)"
             ],
             [
              0.4392156862745098,
              "rgb(177,22,88)"
             ],
             [
              0.5019607843137255,
              "rgb(203,26,79)"
             ],
             [
              0.5647058823529412,
              "rgb(223,47,67)"
             ],
             [
              0.6274509803921569,
              "rgb(236,76,61)"
             ],
             [
              0.6901960784313725,
              "rgb(242,107,73)"
             ],
             [
              0.7529411764705882,
              "rgb(244,135,95)"
             ],
             [
              0.8156862745098039,
              "rgb(245,162,122)"
             ],
             [
              0.8784313725490196,
              "rgb(246,188,153)"
             ],
             [
              0.9411764705882353,
              "rgb(247,212,187)"
             ],
             [
              1,
              "rgb(250,234,220)"
             ]
            ],
            "type": "histogram2d"
           }
          ],
          "histogram2dcontour": [
           {
            "colorbar": {
             "outlinewidth": 0,
             "tickcolor": "rgb(36,36,36)",
             "ticklen": 8,
             "ticks": "outside",
             "tickwidth": 2
            },
            "colorscale": [
             [
              0,
              "rgb(2,4,25)"
             ],
             [
              0.06274509803921569,
              "rgb(24,15,41)"
             ],
             [
              0.12549019607843137,
              "rgb(47,23,57)"
             ],
             [
              0.18823529411764706,
              "rgb(71,28,72)"
             ],
             [
              0.25098039215686274,
              "rgb(97,30,82)"
             ],
             [
              0.3137254901960784,
              "rgb(123,30,89)"
             ],
             [
              0.3764705882352941,
              "rgb(150,27,91)"
             ],
             [
              0.4392156862745098,
              "rgb(177,22,88)"
             ],
             [
              0.5019607843137255,
              "rgb(203,26,79)"
             ],
             [
              0.5647058823529412,
              "rgb(223,47,67)"
             ],
             [
              0.6274509803921569,
              "rgb(236,76,61)"
             ],
             [
              0.6901960784313725,
              "rgb(242,107,73)"
             ],
             [
              0.7529411764705882,
              "rgb(244,135,95)"
             ],
             [
              0.8156862745098039,
              "rgb(245,162,122)"
             ],
             [
              0.8784313725490196,
              "rgb(246,188,153)"
             ],
             [
              0.9411764705882353,
              "rgb(247,212,187)"
             ],
             [
              1,
              "rgb(250,234,220)"
             ]
            ],
            "type": "histogram2dcontour"
           }
          ],
          "mesh3d": [
           {
            "colorbar": {
             "outlinewidth": 0,
             "tickcolor": "rgb(36,36,36)",
             "ticklen": 8,
             "ticks": "outside",
             "tickwidth": 2
            },
            "type": "mesh3d"
           }
          ],
          "parcoords": [
           {
            "line": {
             "colorbar": {
              "outlinewidth": 0,
              "tickcolor": "rgb(36,36,36)",
              "ticklen": 8,
              "ticks": "outside",
              "tickwidth": 2
             }
            },
            "type": "parcoords"
           }
          ],
          "pie": [
           {
            "automargin": true,
            "type": "pie"
           }
          ],
          "scatter": [
           {
            "marker": {
             "colorbar": {
              "outlinewidth": 0,
              "tickcolor": "rgb(36,36,36)",
              "ticklen": 8,
              "ticks": "outside",
              "tickwidth": 2
             }
            },
            "type": "scatter"
           }
          ],
          "scatter3d": [
           {
            "line": {
             "colorbar": {
              "outlinewidth": 0,
              "tickcolor": "rgb(36,36,36)",
              "ticklen": 8,
              "ticks": "outside",
              "tickwidth": 2
             }
            },
            "marker": {
             "colorbar": {
              "outlinewidth": 0,
              "tickcolor": "rgb(36,36,36)",
              "ticklen": 8,
              "ticks": "outside",
              "tickwidth": 2
             }
            },
            "type": "scatter3d"
           }
          ],
          "scattercarpet": [
           {
            "marker": {
             "colorbar": {
              "outlinewidth": 0,
              "tickcolor": "rgb(36,36,36)",
              "ticklen": 8,
              "ticks": "outside",
              "tickwidth": 2
             }
            },
            "type": "scattercarpet"
           }
          ],
          "scattergeo": [
           {
            "marker": {
             "colorbar": {
              "outlinewidth": 0,
              "tickcolor": "rgb(36,36,36)",
              "ticklen": 8,
              "ticks": "outside",
              "tickwidth": 2
             }
            },
            "type": "scattergeo"
           }
          ],
          "scattergl": [
           {
            "marker": {
             "colorbar": {
              "outlinewidth": 0,
              "tickcolor": "rgb(36,36,36)",
              "ticklen": 8,
              "ticks": "outside",
              "tickwidth": 2
             }
            },
            "type": "scattergl"
           }
          ],
          "scattermapbox": [
           {
            "marker": {
             "colorbar": {
              "outlinewidth": 0,
              "tickcolor": "rgb(36,36,36)",
              "ticklen": 8,
              "ticks": "outside",
              "tickwidth": 2
             }
            },
            "type": "scattermapbox"
           }
          ],
          "scatterpolar": [
           {
            "marker": {
             "colorbar": {
              "outlinewidth": 0,
              "tickcolor": "rgb(36,36,36)",
              "ticklen": 8,
              "ticks": "outside",
              "tickwidth": 2
             }
            },
            "type": "scatterpolar"
           }
          ],
          "scatterpolargl": [
           {
            "marker": {
             "colorbar": {
              "outlinewidth": 0,
              "tickcolor": "rgb(36,36,36)",
              "ticklen": 8,
              "ticks": "outside",
              "tickwidth": 2
             }
            },
            "type": "scatterpolargl"
           }
          ],
          "scatterternary": [
           {
            "marker": {
             "colorbar": {
              "outlinewidth": 0,
              "tickcolor": "rgb(36,36,36)",
              "ticklen": 8,
              "ticks": "outside",
              "tickwidth": 2
             }
            },
            "type": "scatterternary"
           }
          ],
          "surface": [
           {
            "colorbar": {
             "outlinewidth": 0,
             "tickcolor": "rgb(36,36,36)",
             "ticklen": 8,
             "ticks": "outside",
             "tickwidth": 2
            },
            "colorscale": [
             [
              0,
              "rgb(2,4,25)"
             ],
             [
              0.06274509803921569,
              "rgb(24,15,41)"
             ],
             [
              0.12549019607843137,
              "rgb(47,23,57)"
             ],
             [
              0.18823529411764706,
              "rgb(71,28,72)"
             ],
             [
              0.25098039215686274,
              "rgb(97,30,82)"
             ],
             [
              0.3137254901960784,
              "rgb(123,30,89)"
             ],
             [
              0.3764705882352941,
              "rgb(150,27,91)"
             ],
             [
              0.4392156862745098,
              "rgb(177,22,88)"
             ],
             [
              0.5019607843137255,
              "rgb(203,26,79)"
             ],
             [
              0.5647058823529412,
              "rgb(223,47,67)"
             ],
             [
              0.6274509803921569,
              "rgb(236,76,61)"
             ],
             [
              0.6901960784313725,
              "rgb(242,107,73)"
             ],
             [
              0.7529411764705882,
              "rgb(244,135,95)"
             ],
             [
              0.8156862745098039,
              "rgb(245,162,122)"
             ],
             [
              0.8784313725490196,
              "rgb(246,188,153)"
             ],
             [
              0.9411764705882353,
              "rgb(247,212,187)"
             ],
             [
              1,
              "rgb(250,234,220)"
             ]
            ],
            "type": "surface"
           }
          ],
          "table": [
           {
            "cells": {
             "fill": {
              "color": "rgb(231,231,240)"
             },
             "line": {
              "color": "white"
             }
            },
            "header": {
             "fill": {
              "color": "rgb(183,183,191)"
             },
             "line": {
              "color": "white"
             }
            },
            "type": "table"
           }
          ]
         },
         "layout": {
          "annotationdefaults": {
           "arrowcolor": "rgb(67,103,167)"
          },
          "autotypenumbers": "strict",
          "coloraxis": {
           "colorbar": {
            "outlinewidth": 0,
            "tickcolor": "rgb(36,36,36)",
            "ticklen": 8,
            "ticks": "outside",
            "tickwidth": 2
           }
          },
          "colorscale": {
           "sequential": [
            [
             0,
             "rgb(2,4,25)"
            ],
            [
             0.06274509803921569,
             "rgb(24,15,41)"
            ],
            [
             0.12549019607843137,
             "rgb(47,23,57)"
            ],
            [
             0.18823529411764706,
             "rgb(71,28,72)"
            ],
            [
             0.25098039215686274,
             "rgb(97,30,82)"
            ],
            [
             0.3137254901960784,
             "rgb(123,30,89)"
            ],
            [
             0.3764705882352941,
             "rgb(150,27,91)"
            ],
            [
             0.4392156862745098,
             "rgb(177,22,88)"
            ],
            [
             0.5019607843137255,
             "rgb(203,26,79)"
            ],
            [
             0.5647058823529412,
             "rgb(223,47,67)"
            ],
            [
             0.6274509803921569,
             "rgb(236,76,61)"
            ],
            [
             0.6901960784313725,
             "rgb(242,107,73)"
            ],
            [
             0.7529411764705882,
             "rgb(244,135,95)"
            ],
            [
             0.8156862745098039,
             "rgb(245,162,122)"
            ],
            [
             0.8784313725490196,
             "rgb(246,188,153)"
            ],
            [
             0.9411764705882353,
             "rgb(247,212,187)"
            ],
            [
             1,
             "rgb(250,234,220)"
            ]
           ],
           "sequentialminus": [
            [
             0,
             "rgb(2,4,25)"
            ],
            [
             0.06274509803921569,
             "rgb(24,15,41)"
            ],
            [
             0.12549019607843137,
             "rgb(47,23,57)"
            ],
            [
             0.18823529411764706,
             "rgb(71,28,72)"
            ],
            [
             0.25098039215686274,
             "rgb(97,30,82)"
            ],
            [
             0.3137254901960784,
             "rgb(123,30,89)"
            ],
            [
             0.3764705882352941,
             "rgb(150,27,91)"
            ],
            [
             0.4392156862745098,
             "rgb(177,22,88)"
            ],
            [
             0.5019607843137255,
             "rgb(203,26,79)"
            ],
            [
             0.5647058823529412,
             "rgb(223,47,67)"
            ],
            [
             0.6274509803921569,
             "rgb(236,76,61)"
            ],
            [
             0.6901960784313725,
             "rgb(242,107,73)"
            ],
            [
             0.7529411764705882,
             "rgb(244,135,95)"
            ],
            [
             0.8156862745098039,
             "rgb(245,162,122)"
            ],
            [
             0.8784313725490196,
             "rgb(246,188,153)"
            ],
            [
             0.9411764705882353,
             "rgb(247,212,187)"
            ],
            [
             1,
             "rgb(250,234,220)"
            ]
           ]
          },
          "colorway": [
           "rgb(76,114,176)",
           "rgb(221,132,82)",
           "rgb(85,168,104)",
           "rgb(196,78,82)",
           "rgb(129,114,179)",
           "rgb(147,120,96)",
           "rgb(218,139,195)",
           "rgb(140,140,140)",
           "rgb(204,185,116)",
           "rgb(100,181,205)"
          ],
          "font": {
           "color": "rgb(36,36,36)"
          },
          "geo": {
           "bgcolor": "white",
           "lakecolor": "white",
           "landcolor": "rgb(234,234,242)",
           "showlakes": true,
           "showland": true,
           "subunitcolor": "white"
          },
          "hoverlabel": {
           "align": "left"
          },
          "hovermode": "closest",
          "paper_bgcolor": "white",
          "plot_bgcolor": "rgb(234,234,242)",
          "polar": {
           "angularaxis": {
            "gridcolor": "white",
            "linecolor": "white",
            "showgrid": true,
            "ticks": ""
           },
           "bgcolor": "rgb(234,234,242)",
           "radialaxis": {
            "gridcolor": "white",
            "linecolor": "white",
            "showgrid": true,
            "ticks": ""
           }
          },
          "scene": {
           "xaxis": {
            "backgroundcolor": "rgb(234,234,242)",
            "gridcolor": "white",
            "gridwidth": 2,
            "linecolor": "white",
            "showbackground": true,
            "showgrid": true,
            "ticks": "",
            "zerolinecolor": "white"
           },
           "yaxis": {
            "backgroundcolor": "rgb(234,234,242)",
            "gridcolor": "white",
            "gridwidth": 2,
            "linecolor": "white",
            "showbackground": true,
            "showgrid": true,
            "ticks": "",
            "zerolinecolor": "white"
           },
           "zaxis": {
            "backgroundcolor": "rgb(234,234,242)",
            "gridcolor": "white",
            "gridwidth": 2,
            "linecolor": "white",
            "showbackground": true,
            "showgrid": true,
            "ticks": "",
            "zerolinecolor": "white"
           }
          },
          "shapedefaults": {
           "fillcolor": "rgb(67,103,167)",
           "line": {
            "width": 0
           },
           "opacity": 0.5
          },
          "ternary": {
           "aaxis": {
            "gridcolor": "white",
            "linecolor": "white",
            "showgrid": true,
            "ticks": ""
           },
           "baxis": {
            "gridcolor": "white",
            "linecolor": "white",
            "showgrid": true,
            "ticks": ""
           },
           "bgcolor": "rgb(234,234,242)",
           "caxis": {
            "gridcolor": "white",
            "linecolor": "white",
            "showgrid": true,
            "ticks": ""
           }
          },
          "xaxis": {
           "automargin": true,
           "gridcolor": "white",
           "linecolor": "white",
           "showgrid": true,
           "ticks": "",
           "title": {
            "standoff": 15
           },
           "zerolinecolor": "white"
          },
          "yaxis": {
           "automargin": true,
           "gridcolor": "white",
           "linecolor": "white",
           "showgrid": true,
           "ticks": "",
           "title": {
            "standoff": 15
           },
           "zerolinecolor": "white"
          }
         }
        },
        "updatemenus": [
         {
          "buttons": [
           {
            "args": [
             {
              "xbins": {
               "end": "2021-08-30T00:00:00",
               "size": 604800000,
               "start": "2020-06-01T00:00:00"
              }
             },
             {
              "annotations[0].visible": true,
              "annotations[1].visible": false,
              "shapes[0].visible": true,
              "shapes[1].visible": false,
              "xaxis.dtick": 604800000,
              "xaxis.tick0": "2020-06-01T00:00:00",
              "xaxis.tickformat": "%d.%m.%y"
             }
            ],
            "label": "Weekly",
            "method": "update"
           },
           {
            "args": [
             {
              "xbins": {
               "end": "2021-09-01T00:00:00",
               "size": "M1",
               "start": "2020-06-01T00:00:00"
              }
             },
             {
              "annotations[0].visible": false,
              "annotations[1].visible": true,
              "shapes[0].visible": false,
              "shapes[1].visible": true,
              "xaxis.dtick": "M1",
              "xaxis.tick0": "2020-06-01T00:00:00",
              "xaxis.tickformat": "%b\n%Y"
             }
            ],
            "label": "Monthly",
            "method": "update"
           }
          ],
          "direction": "left",
          "pad": {
           "r": 5,
           "t": 5
          },
          "showactive": true,
          "type": "buttons",
          "x": 0.5,
          "xanchor": "center",
          "y": 1.02,
          "yanchor": "bottom"
         }
        ],
        "xaxis": {
         "anchor": "y",
         "autorange": true,
         "domain": [
          0,
          1
         ],
         "dtick": 604800000,
         "range": [
          "2020-06-01",
          "2021-08-30"
         ],
         "rangeslider": {
          "autorange": true,
          "range": [
           "2020-06-01",
           "2021-08-30"
          ],
          "visible": true,
          "yaxis": {
           "_template": null,
           "rangemode": "match"
          }
         },
         "showgrid": true,
         "tick0": "2020-06-01T00:00:00",
         "tickfont": {
          "color": "gray",
          "size": 11
         },
         "tickformat": "%d.%m.%y",
         "ticklabelmode": "period",
         "title": {},
         "type": "date"
        },
        "yaxis": {
         "anchor": "x",
         "autorange": true,
         "domain": [
          0,
          1
         ],
         "range": [
          0,
          158.52631578947367
         ],
         "title": {
          "text": "Total Spent"
         },
         "type": "linear"
        }
       }
      },
      "image/png": "[encoded data removed]",
      "text/html": [
       "<div>                            <div id=\"51a68c74-df9f-49cc-842d-fdfb5a0c1ec7\" class=\"plotly-graph-div\" style=\"height:700px; width:100%;\"></div>            <script type=\"text/javascript\">                require([\"plotly\"], function(Plotly) {                    window.PLOTLYENV=window.PLOTLYENV || {};                                    if (document.getElementById(\"51a68c74-df9f-49cc-842d-fdfb5a0c1ec7\")) {                    Plotly.newPlot(                        \"51a68c74-df9f-49cc-842d-fdfb5a0c1ec7\",                        [{\"alignmentgroup\":\"True\",\"bingroup\":\"x\",\"histfunc\":\"sum\",\"hovertemplate\":\"Brand=BWS<br>Date=%{x}<br>sum of Receipt Total=%{y}<extra></extra>\",\"legendgroup\":\"BWS\",\"marker\":{\"color\":\"rgb(76,114,176)\",\"pattern\":{\"shape\":\"\"}},\"name\":\"BWS\",\"offsetgroup\":\"BWS\",\"orientation\":\"v\",\"showlegend\":true,\"type\":\"histogram\",\"x\":[\"2021-08-25T15:49:54\"],\"xaxis\":\"x\",\"xbins\":{\"end\":\"2021-08-30T00:00:00\",\"size\":604800000.0,\"start\":\"2020-06-01T00:00:00\"},\"y\":[40.0],\"yaxis\":\"y\"},{\"alignmentgroup\":\"True\",\"bingroup\":\"x\",\"histfunc\":\"sum\",\"hovertemplate\":\"Brand=Supermarkets<br>Date=%{x}<br>sum of Receipt Total=%{y}<extra></extra>\",\"legendgroup\":\"Supermarkets\",\"marker\":{\"color\":\"rgb(221,132,82)\",\"pattern\":{\"shape\":\"\"}},\"name\":\"Supermarkets\",\"offsetgroup\":\"Supermarkets\",\"orientation\":\"v\",\"showlegend\":true,\"type\":\"histogram\",\"x\":[\"2021-08-25T15:43:45\",\"2021-08-21T16:25:09\",\"2021-08-17T12:41:30\",\"2021-08-12T13:42:23\",\"2021-08-08T12:28:39\",\"2021-08-03T12:59:29\",\"2021-07-30T15:24:50\",\"2021-07-28T12:47:31\",\"2021-07-20T13:00:12\",\"2021-07-14T13:25:47\",\"2021-07-13T14:01:00\",\"2021-07-11T18:17:22\",\"2021-07-06T14:12:52\",\"2021-06-29T14:33:02\",\"2021-06-21T16:42:14\",\"2021-06-20T14:06:33\",\"2021-06-16T18:57:08\",\"2021-06-16T13:38:09\",\"2021-06-13T16:46:54\",\"2021-06-07T18:45:36\",\"2021-06-01T16:43:05\",\"2021-05-31T15:17:40\",\"2021-05-26T21:57:10\",\"2021-05-22T22:49:51\",\"2021-05-17T19:01:22\",\"2021-05-11T11:58:15\",\"2021-05-10T14:47:05\",\"2021-05-04T14:05:54\",\"2021-05-03T15:34:29\",\"2021-04-30T10:47:45\",\"2021-04-28T11:35:51\",\"2021-04-26T19:07:44\",\"2021-04-21T16:40:39\",\"2021-04-19T18:58:58\",\"2021-04-12T18:57:51\",\"2021-04-09T11:13:05\",\"2021-04-09T09:36:50\",\"2021-04-06T11:09:37\",\"2021-03-30T14:15:46\",\"2021-03-29T17:34:09\",\"2021-03-26T11:17:49\",\"2021-03-22T18:01:56\",\"2021-03-16T14:01:16\",\"2021-03-15T17:28:40\",\"2021-03-09T12:54:35\",\"2021-03-09T12:18:30\",\"2021-03-05T10:04:20\",\"2021-03-01T19:02:44\",\"2021-03-01T17:34:01\",\"2021-02-27T16:04:13\",\"2021-02-22T17:29:34\",\"2021-02-22T10:24:36\",\"2021-02-16T10:49:04\",\"2021-02-10T13:51:11\",\"2021-02-07T15:51:00\",\"2021-02-02T13:51:27\",\"2021-01-29T19:41:40\",\"2021-01-28T21:32:59\",\"2021-01-20T10:19:44\",\"2021-01-13T19:52:43\",\"2021-01-06T12:29:55\",\"2021-01-01T17:10:51\",\"2020-12-28T14:33:36\",\"2020-12-23T20:08:14\",\"2020-12-22T14:29:26\",\"2020-12-16T10:57:08\",\"2020-12-11T20:13:18\",\"2020-12-07T13:52:47\",\"2020-12-02T17:07:05\",\"2020-11-25T17:10:56\",\"2020-11-23T18:50:28\",\"2020-11-19T11:19:25\",\"2020-11-18T12:29:01\",\"2020-11-16T17:34:05\",\"2020-11-11T17:59:03\",\"2020-11-04T12:27:21\",\"2020-11-04T12:12:19\",\"2020-10-29T11:29:07\",\"2020-10-26T12:24:59\",\"2020-10-26T11:36:06\",\"2020-10-21T11:23:19\",\"2020-10-19T12:44:22\",\"2020-10-12T14:22:36\",\"2020-10-06T16:39:27\",\"2020-10-01T14:44:34\",\"2020-09-24T12:23:42\",\"2020-09-19T17:24:29\",\"2020-09-14T13:35:19\",\"2020-09-09T14:37:45\",\"2020-09-06T17:34:34\",\"2020-09-02T14:39:11\",\"2020-08-24T16:02:27\",\"2020-08-17T15:31:40\",\"2020-08-14T17:11:26\",\"2020-08-06T13:14:45\",\"2020-08-03T16:55:14\",\"2020-08-01T16:41:51\",\"2020-07-27T11:27:34\",\"2020-07-21T13:52:33\",\"2020-07-17T17:02:43\",\"2020-07-13T14:20:24\",\"2020-07-09T14:46:20\",\"2020-06-29T15:25:33\",\"2020-06-22T14:21:36\",\"2020-06-15T11:32:42\",\"2020-06-11T17:47:37\",\"2020-06-03T10:44:41\"],\"xaxis\":\"x\",\"xbins\":{\"end\":\"2021-08-30T00:00:00\",\"size\":604800000.0,\"start\":\"2020-06-01T00:00:00\"},\"y\":[49.72,20.94,93.34,91.1,18.32,85.48,22.15,64.82,80.0,22.09,70.0,26.54,46.52,80.0,40.0,4.8,10.41,83.0,29.68,54.0,9.3,78.24,32.07,40.0,29.39,64.91,4.82,64.34,5.4,24.55,5.65,50.84,3.0,29.0,24.0,12.45,8.31,38.0,50.0,4.56,24.26,39.0,63.03,5.76,44.97,1.6,17.94,33.66,3.74,4.8,7.0,35.11,32.85,51.01,15.19,58.22,30.07,31.47,77.96,55.55,61.26,42.79,34.58,36.0,9.0,65.0,11.1,70.0,70.0,59.0,8.1,18.7,29.89,13.12,64.0,4.1,16.7,44.4,22.6,4.4,8.7,85.64,53.3,41.57,68.95,45.79,34.64,49.52,31.68,12.8,53.72,38.59,29.91,32.8,27.29,75.65,64.6,21.11,23.67,3.6,23.21,50.7,44.7,32.75,6.3,56.47,38.23],\"yaxis\":\"y\"},{\"alignmentgroup\":\"True\",\"bingroup\":\"x\",\"histfunc\":\"sum\",\"hovertemplate\":\"Brand=Other<br>Date=%{x}<br>sum of Receipt Total=%{y}<extra></extra>\",\"legendgroup\":\"Other\",\"marker\":{\"color\":\"rgb(85,168,104)\",\"pattern\":{\"shape\":\"\"}},\"name\":\"Other\",\"offsetgroup\":\"Other\",\"orientation\":\"v\",\"showlegend\":true,\"type\":\"histogram\",\"x\":[\"2021-07-27T10:48:58\",\"2021-07-11T16:10:43\",\"2021-06-19T14:02:59\",\"2021-06-06T14:14:04\"],\"xaxis\":\"x\",\"xbins\":{\"end\":\"2021-08-30T00:00:00\",\"size\":604800000.0,\"start\":\"2020-06-01T00:00:00\"},\"y\":[24.08,48.97,51.35,63.06],\"yaxis\":\"y\"},{\"alignmentgroup\":\"True\",\"bingroup\":\"x\",\"histfunc\":\"sum\",\"hovertemplate\":\"Brand=WW Metro<br>Date=%{x}<br>sum of Receipt Total=%{y}<extra></extra>\",\"legendgroup\":\"WW Metro\",\"marker\":{\"color\":\"rgb(196,78,82)\",\"pattern\":{\"shape\":\"\"}},\"name\":\"WW Metro\",\"offsetgroup\":\"WW Metro\",\"orientation\":\"v\",\"showlegend\":true,\"type\":\"histogram\",\"x\":[\"2021-04-11T16:42:06\"],\"xaxis\":\"x\",\"xbins\":{\"end\":\"2021-08-30T00:00:00\",\"size\":604800000.0,\"start\":\"2020-06-01T00:00:00\"},\"y\":[5.8],\"yaxis\":\"y\"}],                        {\"bargap\":0.1,\"barmode\":\"relative\",\"height\":700,\"legend\":{\"title\":{\"text\":\"Brand\"},\"tracegroupgap\":0},\"margin\":{\"t\":60},\"template\":{\"data\":{\"bar\":[{\"error_x\":{\"color\":\"rgb(36,36,36)\"},\"error_y\":{\"color\":\"rgb(36,36,36)\"},\"marker\":{\"line\":{\"color\":\"rgb(234,234,242)\",\"width\":0.5},\"pattern\":{\"fillmode\":\"overlay\",\"size\":10,\"solidity\":0.2}},\"type\":\"bar\"}],\"barpolar\":[{\"marker\":{\"line\":{\"color\":\"rgb(234,234,242)\",\"width\":0.5},\"pattern\":{\"fillmode\":\"overlay\",\"size\":10,\"solidity\":0.2}},\"type\":\"barpolar\"}],\"carpet\":[{\"aaxis\":{\"endlinecolor\":\"rgb(36,36,36)\",\"gridcolor\":\"white\",\"linecolor\":\"white\",\"minorgridcolor\":\"white\",\"startlinecolor\":\"rgb(36,36,36)\"},\"baxis\":{\"endlinecolor\":\"rgb(36,36,36)\",\"gridcolor\":\"white\",\"linecolor\":\"white\",\"minorgridcolor\":\"white\",\"startlinecolor\":\"rgb(36,36,36)\"},\"type\":\"carpet\"}],\"choropleth\":[{\"colorbar\":{\"outlinewidth\":0,\"tickcolor\":\"rgb(36,36,36)\",\"ticklen\":8,\"ticks\":\"outside\",\"tickwidth\":2},\"type\":\"choropleth\"}],\"contour\":[{\"colorbar\":{\"outlinewidth\":0,\"tickcolor\":\"rgb(36,36,36)\",\"ticklen\":8,\"ticks\":\"outside\",\"tickwidth\":2},\"colorscale\":[[0.0,\"rgb(2,4,25)\"],[0.06274509803921569,\"rgb(24,15,41)\"],[0.12549019607843137,\"rgb(47,23,57)\"],[0.18823529411764706,\"rgb(71,28,72)\"],[0.25098039215686274,\"rgb(97,30,82)\"],[0.3137254901960784,\"rgb(123,30,89)\"],[0.3764705882352941,\"rgb(150,27,91)\"],[0.4392156862745098,\"rgb(177,22,88)\"],[0.5019607843137255,\"rgb(203,26,79)\"],[0.5647058823529412,\"rgb(223,47,67)\"],[0.6274509803921569,\"rgb(236,76,61)\"],[0.6901960784313725,\"rgb(242,107,73)\"],[0.7529411764705882,\"rgb(244,135,95)\"],[0.8156862745098039,\"rgb(245,162,122)\"],[0.8784313725490196,\"rgb(246,188,153)\"],[0.9411764705882353,\"rgb(247,212,187)\"],[1.0,\"rgb(250,234,220)\"]],\"type\":\"contour\"}],\"contourcarpet\":[{\"colorbar\":{\"outlinewidth\":0,\"tickcolor\":\"rgb(36,36,36)\",\"ticklen\":8,\"ticks\":\"outside\",\"tickwidth\":2},\"type\":\"contourcarpet\"}],\"heatmap\":[{\"colorbar\":{\"outlinewidth\":0,\"tickcolor\":\"rgb(36,36,36)\",\"ticklen\":8,\"ticks\":\"outside\",\"tickwidth\":2},\"colorscale\":[[0.0,\"rgb(2,4,25)\"],[0.06274509803921569,\"rgb(24,15,41)\"],[0.12549019607843137,\"rgb(47,23,57)\"],[0.18823529411764706,\"rgb(71,28,72)\"],[0.25098039215686274,\"rgb(97,30,82)\"],[0.3137254901960784,\"rgb(123,30,89)\"],[0.3764705882352941,\"rgb(150,27,91)\"],[0.4392156862745098,\"rgb(177,22,88)\"],[0.5019607843137255,\"rgb(203,26,79)\"],[0.5647058823529412,\"rgb(223,47,67)\"],[0.6274509803921569,\"rgb(236,76,61)\"],[0.6901960784313725,\"rgb(242,107,73)\"],[0.7529411764705882,\"rgb(244,135,95)\"],[0.8156862745098039,\"rgb(245,162,122)\"],[0.8784313725490196,\"rgb(246,188,153)\"],[0.9411764705882353,\"rgb(247,212,187)\"],[1.0,\"rgb(250,234,220)\"]],\"type\":\"heatmap\"}],\"heatmapgl\":[{\"colorbar\":{\"outlinewidth\":0,\"tickcolor\":\"rgb(36,36,36)\",\"ticklen\":8,\"ticks\":\"outside\",\"tickwidth\":2},\"colorscale\":[[0.0,\"rgb(2,4,25)\"],[0.06274509803921569,\"rgb(24,15,41)\"],[0.12549019607843137,\"rgb(47,23,57)\"],[0.18823529411764706,\"rgb(71,28,72)\"],[0.25098039215686274,\"rgb(97,30,82)\"],[0.3137254901960784,\"rgb(123,30,89)\"],[0.3764705882352941,\"rgb(150,27,91)\"],[0.4392156862745098,\"rgb(177,22,88)\"],[0.5019607843137255,\"rgb(203,26,79)\"],[0.5647058823529412,\"rgb(223,47,67)\"],[0.6274509803921569,\"rgb(236,76,61)\"],[0.6901960784313725,\"rgb(242,107,73)\"],[0.7529411764705882,\"rgb(244,135,95)\"],[0.8156862745098039,\"rgb(245,162,122)\"],[0.8784313725490196,\"rgb(246,188,153)\"],[0.9411764705882353,\"rgb(247,212,187)\"],[1.0,\"rgb(250,234,220)\"]],\"type\":\"heatmapgl\"}],\"histogram\":[{\"marker\":{\"pattern\":{\"fillmode\":\"overlay\",\"size\":10,\"solidity\":0.2}},\"type\":\"histogram\"}],\"histogram2d\":[{\"colorbar\":{\"outlinewidth\":0,\"tickcolor\":\"rgb(36,36,36)\",\"ticklen\":8,\"ticks\":\"outside\",\"tickwidth\":2},\"colorscale\":[[0.0,\"rgb(2,4,25)\"],[0.06274509803921569,\"rgb(24,15,41)\"],[0.12549019607843137,\"rgb(47,23,57)\"],[0.18823529411764706,\"rgb(71,28,72)\"],[0.25098039215686274,\"rgb(97,30,82)\"],[0.3137254901960784,\"rgb(123,30,89)\"],[0.3764705882352941,\"rgb(150,27,91)\"],[0.4392156862745098,\"rgb(177,22,88)\"],[0.5019607843137255,\"rgb(203,26,79)\"],[0.5647058823529412,\"rgb(223,47,67)\"],[0.6274509803921569,\"rgb(236,76,61)\"],[0.6901960784313725,\"rgb(242,107,73)\"],[0.7529411764705882,\"rgb(244,135,95)\"],[0.8156862745098039,\"rgb(245,162,122)\"],[0.8784313725490196,\"rgb(246,188,153)\"],[0.9411764705882353,\"rgb(247,212,187)\"],[1.0,\"rgb(250,234,220)\"]],\"type\":\"histogram2d\"}],\"histogram2dcontour\":[{\"colorbar\":{\"outlinewidth\":0,\"tickcolor\":\"rgb(36,36,36)\",\"ticklen\":8,\"ticks\":\"outside\",\"tickwidth\":2},\"colorscale\":[[0.0,\"rgb(2,4,25)\"],[0.06274509803921569,\"rgb(24,15,41)\"],[0.12549019607843137,\"rgb(47,23,57)\"],[0.18823529411764706,\"rgb(71,28,72)\"],[0.25098039215686274,\"rgb(97,30,82)\"],[0.3137254901960784,\"rgb(123,30,89)\"],[0.3764705882352941,\"rgb(150,27,91)\"],[0.4392156862745098,\"rgb(177,22,88)\"],[0.5019607843137255,\"rgb(203,26,79)\"],[0.5647058823529412,\"rgb(223,47,67)\"],[0.6274509803921569,\"rgb(236,76,61)\"],[0.6901960784313725,\"rgb(242,107,73)\"],[0.7529411764705882,\"rgb(244,135,95)\"],[0.8156862745098039,\"rgb(245,162,122)\"],[0.8784313725490196,\"rgb(246,188,153)\"],[0.9411764705882353,\"rgb(247,212,187)\"],[1.0,\"rgb(250,234,220)\"]],\"type\":\"histogram2dcontour\"}],\"mesh3d\":[{\"colorbar\":{\"outlinewidth\":0,\"tickcolor\":\"rgb(36,36,36)\",\"ticklen\":8,\"ticks\":\"outside\",\"tickwidth\":2},\"type\":\"mesh3d\"}],\"parcoords\":[{\"line\":{\"colorbar\":{\"outlinewidth\":0,\"tickcolor\":\"rgb(36,36,36)\",\"ticklen\":8,\"ticks\":\"outside\",\"tickwidth\":2}},\"type\":\"parcoords\"}],\"pie\":[{\"automargin\":true,\"type\":\"pie\"}],\"scatter\":[{\"marker\":{\"colorbar\":{\"outlinewidth\":0,\"tickcolor\":\"rgb(36,36,36)\",\"ticklen\":8,\"ticks\":\"outside\",\"tickwidth\":2}},\"type\":\"scatter\"}],\"scatter3d\":[{\"line\":{\"colorbar\":{\"outlinewidth\":0,\"tickcolor\":\"rgb(36,36,36)\",\"ticklen\":8,\"ticks\":\"outside\",\"tickwidth\":2}},\"marker\":{\"colorbar\":{\"outlinewidth\":0,\"tickcolor\":\"rgb(36,36,36)\",\"ticklen\":8,\"ticks\":\"outside\",\"tickwidth\":2}},\"type\":\"scatter3d\"}],\"scattercarpet\":[{\"marker\":{\"colorbar\":{\"outlinewidth\":0,\"tickcolor\":\"rgb(36,36,36)\",\"ticklen\":8,\"ticks\":\"outside\",\"tickwidth\":2}},\"type\":\"scattercarpet\"}],\"scattergeo\":[{\"marker\":{\"colorbar\":{\"outlinewidth\":0,\"tickcolor\":\"rgb(36,36,36)\",\"ticklen\":8,\"ticks\":\"outside\",\"tickwidth\":2}},\"type\":\"scattergeo\"}],\"scattergl\":[{\"marker\":{\"colorbar\":{\"outlinewidth\":0,\"tickcolor\":\"rgb(36,36,36)\",\"ticklen\":8,\"ticks\":\"outside\",\"tickwidth\":2}},\"type\":\"scattergl\"}],\"scattermapbox\":[{\"marker\":{\"colorbar\":{\"outlinewidth\":0,\"tickcolor\":\"rgb(36,36,36)\",\"ticklen\":8,\"ticks\":\"outside\",\"tickwidth\":2}},\"type\":\"scattermapbox\"}],\"scatterpolar\":[{\"marker\":{\"colorbar\":{\"outlinewidth\":0,\"tickcolor\":\"rgb(36,36,36)\",\"ticklen\":8,\"ticks\":\"outside\",\"tickwidth\":2}},\"type\":\"scatterpolar\"}],\"scatterpolargl\":[{\"marker\":{\"colorbar\":{\"outlinewidth\":0,\"tickcolor\":\"rgb(36,36,36)\",\"ticklen\":8,\"ticks\":\"outside\",\"tickwidth\":2}},\"type\":\"scatterpolargl\"}],\"scatterternary\":[{\"marker\":{\"colorbar\":{\"outlinewidth\":0,\"tickcolor\":\"rgb(36,36,36)\",\"ticklen\":8,\"ticks\":\"outside\",\"tickwidth\":2}},\"type\":\"scatterternary\"}],\"surface\":[{\"colorbar\":{\"outlinewidth\":0,\"tickcolor\":\"rgb(36,36,36)\",\"ticklen\":8,\"ticks\":\"outside\",\"tickwidth\":2},\"colorscale\":[[0.0,\"rgb(2,4,25)\"],[0.06274509803921569,\"rgb(24,15,41)\"],[0.12549019607843137,\"rgb(47,23,57)\"],[0.18823529411764706,\"rgb(71,28,72)\"],[0.25098039215686274,\"rgb(97,30,82)\"],[0.3137254901960784,\"rgb(123,30,89)\"],[0.3764705882352941,\"rgb(150,27,91)\"],[0.4392156862745098,\"rgb(177,22,88)\"],[0.5019607843137255,\"rgb(203,26,79)\"],[0.5647058823529412,\"rgb(223,47,67)\"],[0.6274509803921569,\"rgb(236,76,61)\"],[0.6901960784313725,\"rgb(242,107,73)\"],[0.7529411764705882,\"rgb(244,135,95)\"],[0.8156862745098039,\"rgb(245,162,122)\"],[0.8784313725490196,\"rgb(246,188,153)\"],[0.9411764705882353,\"rgb(247,212,187)\"],[1.0,\"rgb(250,234,220)\"]],\"type\":\"surface\"}],\"table\":[{\"cells\":{\"fill\":{\"color\":\"rgb(231,231,240)\"},\"line\":{\"color\":\"white\"}},\"header\":{\"fill\":{\"color\":\"rgb(183,183,191)\"},\"line\":{\"color\":\"white\"}},\"type\":\"table\"}]},\"layout\":{\"annotationdefaults\":{\"arrowcolor\":\"rgb(67,103,167)\"},\"autotypenumbers\":\"strict\",\"coloraxis\":{\"colorbar\":{\"outlinewidth\":0,\"tickcolor\":\"rgb(36,36,36)\",\"ticklen\":8,\"ticks\":\"outside\",\"tickwidth\":2}},\"colorscale\":{\"sequential\":[[0.0,\"rgb(2,4,25)\"],[0.06274509803921569,\"rgb(24,15,41)\"],[0.12549019607843137,\"rgb(47,23,57)\"],[0.18823529411764706,\"rgb(71,28,72)\"],[0.25098039215686274,\"rgb(97,30,82)\"],[0.3137254901960784,\"rgb(123,30,89)\"],[0.3764705882352941,\"rgb(150,27,91)\"],[0.4392156862745098,\"rgb(177,22,88)\"],[0.5019607843137255,\"rgb(203,26,79)\"],[0.5647058823529412,\"rgb(223,47,67)\"],[0.6274509803921569,\"rgb(236,76,61)\"],[0.6901960784313725,\"rgb(242,107,73)\"],[0.7529411764705882,\"rgb(244,135,95)\"],[0.8156862745098039,\"rgb(245,162,122)\"],[0.8784313725490196,\"rgb(246,188,153)\"],[0.9411764705882353,\"rgb(247,212,187)\"],[1.0,\"rgb(250,234,220)\"]],\"sequentialminus\":[[0.0,\"rgb(2,4,25)\"],[0.06274509803921569,\"rgb(24,15,41)\"],[0.12549019607843137,\"rgb(47,23,57)\"],[0.18823529411764706,\"rgb(71,28,72)\"],[0.25098039215686274,\"rgb(97,30,82)\"],[0.3137254901960784,\"rgb(123,30,89)\"],[0.3764705882352941,\"rgb(150,27,91)\"],[0.4392156862745098,\"rgb(177,22,88)\"],[0.5019607843137255,\"rgb(203,26,79)\"],[0.5647058823529412,\"rgb(223,47,67)\"],[0.6274509803921569,\"rgb(236,76,61)\"],[0.6901960784313725,\"rgb(242,107,73)\"],[0.7529411764705882,\"rgb(244,135,95)\"],[0.8156862745098039,\"rgb(245,162,122)\"],[0.8784313725490196,\"rgb(246,188,153)\"],[0.9411764705882353,\"rgb(247,212,187)\"],[1.0,\"rgb(250,234,220)\"]]},\"colorway\":[\"rgb(76,114,176)\",\"rgb(221,132,82)\",\"rgb(85,168,104)\",\"rgb(196,78,82)\",\"rgb(129,114,179)\",\"rgb(147,120,96)\",\"rgb(218,139,195)\",\"rgb(140,140,140)\",\"rgb(204,185,116)\",\"rgb(100,181,205)\"],\"font\":{\"color\":\"rgb(36,36,36)\"},\"geo\":{\"bgcolor\":\"white\",\"lakecolor\":\"white\",\"landcolor\":\"rgb(234,234,242)\",\"showlakes\":true,\"showland\":true,\"subunitcolor\":\"white\"},\"hoverlabel\":{\"align\":\"left\"},\"hovermode\":\"closest\",\"paper_bgcolor\":\"white\",\"plot_bgcolor\":\"rgb(234,234,242)\",\"polar\":{\"angularaxis\":{\"gridcolor\":\"white\",\"linecolor\":\"white\",\"showgrid\":true,\"ticks\":\"\"},\"bgcolor\":\"rgb(234,234,242)\",\"radialaxis\":{\"gridcolor\":\"white\",\"linecolor\":\"white\",\"showgrid\":true,\"ticks\":\"\"}},\"scene\":{\"xaxis\":{\"backgroundcolor\":\"rgb(234,234,242)\",\"gridcolor\":\"white\",\"gridwidth\":2,\"linecolor\":\"white\",\"showbackground\":true,\"showgrid\":true,\"ticks\":\"\",\"zerolinecolor\":\"white\"},\"yaxis\":{\"backgroundcolor\":\"rgb(234,234,242)\",\"gridcolor\":\"white\",\"gridwidth\":2,\"linecolor\":\"white\",\"showbackground\":true,\"showgrid\":true,\"ticks\":\"\",\"zerolinecolor\":\"white\"},\"zaxis\":{\"backgroundcolor\":\"rgb(234,234,242)\",\"gridcolor\":\"white\",\"gridwidth\":2,\"linecolor\":\"white\",\"showbackground\":true,\"showgrid\":true,\"ticks\":\"\",\"zerolinecolor\":\"white\"}},\"shapedefaults\":{\"fillcolor\":\"rgb(67,103,167)\",\"line\":{\"width\":0},\"opacity\":0.5},\"ternary\":{\"aaxis\":{\"gridcolor\":\"white\",\"linecolor\":\"white\",\"showgrid\":true,\"ticks\":\"\"},\"baxis\":{\"gridcolor\":\"white\",\"linecolor\":\"white\",\"showgrid\":true,\"ticks\":\"\"},\"bgcolor\":\"rgb(234,234,242)\",\"caxis\":{\"gridcolor\":\"white\",\"linecolor\":\"white\",\"showgrid\":true,\"ticks\":\"\"}},\"xaxis\":{\"automargin\":true,\"gridcolor\":\"white\",\"linecolor\":\"white\",\"showgrid\":true,\"ticks\":\"\",\"title\":{\"standoff\":15},\"zerolinecolor\":\"white\"},\"yaxis\":{\"automargin\":true,\"gridcolor\":\"white\",\"linecolor\":\"white\",\"showgrid\":true,\"ticks\":\"\",\"title\":{\"standoff\":15},\"zerolinecolor\":\"white\"}}},\"updatemenus\":[{\"buttons\":[{\"args\":[{\"xbins\":{\"end\":\"2021-08-30T00:00:00\",\"size\":604800000.0,\"start\":\"2020-06-01T00:00:00\"}},{\"annotations[0].visible\":true,\"annotations[1].visible\":false,\"shapes[0].visible\":true,\"shapes[1].visible\":false,\"xaxis.dtick\":604800000.0,\"xaxis.tick0\":\"2020-06-01T00:00:00\",\"xaxis.tickformat\":\"%d.%m.%y\"}],\"label\":\"Weekly\",\"method\":\"update\"},{\"args\":[{\"xbins\":{\"end\":\"2021-09-01T00:00:00\",\"size\":\"M1\",\"start\":\"2020-06-01T00:00:00\"}},{\"annotations[0].visible\":false,\"annotations[1].visible\":true,\"shapes[0].visible\":false,\"shapes[1].visible\":true,\"xaxis.dtick\":\"M1\",\"xaxis.tick0\":\"2020-06-01T00:00:00\",\"xaxis.tickformat\":\"%b\\n%Y\"}],\"label\":\"Monthly\",\"method\":\"update\"}],\"direction\":\"left\",\"pad\":{\"r\":5,\"t\":5},\"showactive\":true,\"type\":\"buttons\",\"x\":0.5,\"xanchor\":\"center\",\"y\":1.02,\"yanchor\":\"bottom\"}],\"xaxis\":{\"anchor\":\"y\",\"domain\":[0.0,1.0],\"dtick\":604800000.0,\"rangeslider\":{\"visible\":true},\"showgrid\":true,\"tick0\":\"2020-06-01T00:00:00\",\"tickfont\":{\"color\":\"gray\",\"size\":11},\"tickformat\":\"%d.%m.%y\",\"ticklabelmode\":\"period\",\"title\":{}},\"yaxis\":{\"anchor\":\"x\",\"domain\":[0.0,1.0],\"title\":{\"text\":\"Total Spent\"}}},                        {\"responsive\": true}                    ).then(function(){\n",
       "                            \n",
       "var gd = document.getElementById('51a68c74-df9f-49cc-842d-fdfb5a0c1ec7');\n",
       "var x = new MutationObserver(function (mutations, observer) {{\n",
       "        var display = window.getComputedStyle(gd).display;\n",
       "        if (!display || display === 'none') {{\n",
       "            console.log([gd, 'removed!']);\n",
       "            Plotly.purge(gd);\n",
       "            observer.disconnect();\n",
       "        }}\n",
       "}});\n",
       "\n",
       "// Listen for the removal of the full notebook cells\n",
       "var notebookContainer = gd.closest('#notebook-container');\n",
       "if (notebookContainer) {{\n",
       "    x.observe(notebookContainer, {childList: true});\n",
       "}}\n",
       "\n",
       "// Listen for the clearing of the current output cell\n",
       "var outputEl = gd.closest('.output');\n",
       "if (outputEl) {{\n",
       "    x.observe(outputEl, {childList: true});\n",
       "}}\n",
       "\n",
       "                        })                };                });            </script>        </div>"
      ]
     },
     "metadata": {},
     "output_type": "display_data"
    }
   ],
   "source": [
    "data_content['Plot Timeline'].show()"
   ]
  },
  {
   "cell_type": "code",
   "execution_count": 28,
   "id": "3e276b21-f1f2-4145-a169-cdb92c9b7020",
   "metadata": {},
   "outputs": [
    {
     "data": {
      "application/vnd.plotly.v1+json": {
       "config": {
        "plotlyServerURL": "https://plot.ly"
       },
       "data": [
        {
         "alignmentgroup": "True",
         "hovertemplate": "Brand=BWS<br>Receipt Total=%{x}<br>Card Number=%{y}<extra></extra>",
         "legendgroup": "BWS",
         "marker": {
          "color": "rgb(76,114,176)",
          "pattern": {
           "shape": ""
          }
         },
         "name": "BWS",
         "offsetgroup": "BWS",
         "orientation": "h",
         "showlegend": true,
         "textposition": "auto",
         "type": "bar",
         "x": [
          40
         ],
         "xaxis": "x",
         "y": [
          "9355036811085"
         ],
         "yaxis": "y"
        },
        {
         "alignmentgroup": "True",
         "hovertemplate": "Brand=Supermarkets<br>Receipt Total=%{x}<br>Card Number=%{y}<extra></extra>",
         "legendgroup": "Supermarkets",
         "marker": {
          "color": "rgb(221,132,82)",
          "pattern": {
           "shape": ""
          }
         },
         "name": "Supermarkets",
         "offsetgroup": "Supermarkets",
         "orientation": "h",
         "showlegend": true,
         "textposition": "auto",
         "type": "bar",
         "x": [
          49.72,
          20.94,
          93.34,
          91.1,
          18.32,
          85.48,
          22.15,
          64.82,
          80,
          22.09,
          70,
          26.54,
          46.52,
          80,
          40,
          4.8,
          10.41,
          83,
          29.68,
          54,
          9.3,
          78.24,
          32.07,
          40,
          29.39,
          64.91,
          4.82,
          64.34,
          5.4,
          24.55,
          5.65,
          50.84,
          3,
          29,
          24,
          12.45,
          8.31,
          38,
          50,
          4.56,
          24.26,
          39,
          63.03,
          5.76,
          44.97,
          1.6,
          17.94,
          33.66,
          3.74,
          4.8,
          7,
          35.11,
          32.85,
          51.01,
          15.19,
          58.22,
          30.07,
          31.47,
          77.96,
          55.55,
          61.26,
          42.79,
          34.58,
          36,
          9,
          65,
          11.1,
          70,
          70,
          59,
          8.1,
          18.7,
          29.89,
          13.12,
          64,
          4.1,
          16.7,
          44.4,
          22.6,
          4.4,
          8.7,
          85.64,
          53.3,
          41.57,
          68.95,
          45.79,
          34.64,
          49.52,
          31.68,
          12.8,
          53.72,
          38.59,
          29.91,
          32.8,
          27.29,
          75.65,
          64.6,
          21.11,
          23.67,
          3.6,
          23.21,
          50.7,
          44.7,
          32.75,
          6.3,
          56.47,
          38.23
         ],
         "xaxis": "x",
         "y": [
          "9355036811085",
          "9355036811085",
          "9355036811085",
          "9355036811085",
          "9355036811085",
          "9355036811085",
          "9355036811085",
          "9355036811085",
          "9355036811085",
          "9355036811085",
          "9355036811085",
          "9355036811085",
          "9355036811085",
          "9355036811085",
          "9355036811085",
          "9355036811085",
          "9355036811085",
          "9355036811085",
          "9355036811085",
          "9355036811085",
          "9355036811085",
          "9355036811085",
          "9355036811085",
          "9355036811085",
          "9355036811085",
          "9355036811085",
          "9355036811085",
          "9355036811085",
          "9355036811085",
          "9355036811085",
          "9355036811085",
          "9355036811085",
          "9355036811085",
          "9355036811085",
          "9355036811085",
          "9355036811085",
          "9355036811085",
          "9355036811085",
          "9355036811085",
          "9355036811085",
          "9355036811085",
          "9355036811085",
          "9355036811085",
          "9355036811085",
          "9355036811085",
          "9355036811085",
          "9355036811085",
          "9355036811085",
          "9355036811085",
          "9355036811085",
          "9355036811085",
          "9355036811085",
          "9355036811085",
          "9355036811085",
          "9355036811085",
          "9355036811085",
          "9355036811085",
          "9355036811085",
          "9355036811085",
          "9355036811085",
          "9355036811085",
          "9355036811085",
          "9355036811085",
          "9355036811085",
          "9355036811085",
          "9355036811085",
          "9355036811085",
          "9355036811085",
          "9355036811085",
          "9355036811085",
          "9355036811085",
          "9355036811085",
          "9355036811085",
          "9355036811085",
          "9355036811085",
          "9355036811085",
          "9355036811085",
          "9355036811085",
          "9355036811085",
          "9355036811085",
          "9355036811085",
          "9355036811085",
          "9355036811085",
          "9355036811085",
          "9355036811085",
          "9355036811085",
          "9355036811085",
          "9355036811085",
          "9355036811085",
          "9355036811085",
          "9355036811085",
          "9355036811085",
          "9355036811085",
          "9355036811085",
          "9355036811085",
          "9355036811085",
          "9355036811085",
          "9355036811085",
          "9355036811085",
          "9355036811085",
          "9355036811085",
          "9355036811085",
          "9355036811085",
          "9355036811085",
          "9355036811085",
          "9355036811085",
          "9355036811085"
         ],
         "yaxis": "y"
        },
        {
         "alignmentgroup": "True",
         "hovertemplate": "Brand=Other<br>Receipt Total=%{x}<br>Card Number=%{y}<extra></extra>",
         "legendgroup": "Other",
         "marker": {
          "color": "rgb(85,168,104)",
          "pattern": {
           "shape": ""
          }
         },
         "name": "Other",
         "offsetgroup": "Other",
         "orientation": "h",
         "showlegend": true,
         "textposition": "auto",
         "type": "bar",
         "x": [
          24.08,
          48.97,
          51.35,
          63.06
         ],
         "xaxis": "x",
         "y": [
          "9355036811085",
          "9355036811085",
          "9355036811085",
          "9355036811085"
         ],
         "yaxis": "y"
        },
        {
         "alignmentgroup": "True",
         "hovertemplate": "Brand=WW Metro<br>Receipt Total=%{x}<br>Card Number=%{y}<extra></extra>",
         "legendgroup": "WW Metro",
         "marker": {
          "color": "rgb(196,78,82)",
          "pattern": {
           "shape": ""
          }
         },
         "name": "WW Metro",
         "offsetgroup": "WW Metro",
         "orientation": "h",
         "showlegend": true,
         "textposition": "auto",
         "type": "bar",
         "x": [
          5.8
         ],
         "xaxis": "x",
         "y": [
          "9355036811085"
         ],
         "yaxis": "y"
        }
       ],
       "layout": {
        "autosize": true,
        "barmode": "relative",
        "legend": {
         "title": {
          "text": "Brand"
         },
         "tracegroupgap": 0
        },
        "margin": {
         "t": 60
        },
        "showlegend": true,
        "template": {
         "data": {
          "bar": [
           {
            "error_x": {
             "color": "rgb(36,36,36)"
            },
            "error_y": {
             "color": "rgb(36,36,36)"
            },
            "marker": {
             "line": {
              "color": "rgb(234,234,242)",
              "width": 0.5
             },
             "pattern": {
              "fillmode": "overlay",
              "size": 10,
              "solidity": 0.2
             }
            },
            "type": "bar"
           }
          ],
          "barpolar": [
           {
            "marker": {
             "line": {
              "color": "rgb(234,234,242)",
              "width": 0.5
             },
             "pattern": {
              "fillmode": "overlay",
              "size": 10,
              "solidity": 0.2
             }
            },
            "type": "barpolar"
           }
          ],
          "carpet": [
           {
            "aaxis": {
             "endlinecolor": "rgb(36,36,36)",
             "gridcolor": "white",
             "linecolor": "white",
             "minorgridcolor": "white",
             "startlinecolor": "rgb(36,36,36)"
            },
            "baxis": {
             "endlinecolor": "rgb(36,36,36)",
             "gridcolor": "white",
             "linecolor": "white",
             "minorgridcolor": "white",
             "startlinecolor": "rgb(36,36,36)"
            },
            "type": "carpet"
           }
          ],
          "choropleth": [
           {
            "colorbar": {
             "outlinewidth": 0,
             "tickcolor": "rgb(36,36,36)",
             "ticklen": 8,
             "ticks": "outside",
             "tickwidth": 2
            },
            "type": "choropleth"
           }
          ],
          "contour": [
           {
            "colorbar": {
             "outlinewidth": 0,
             "tickcolor": "rgb(36,36,36)",
             "ticklen": 8,
             "ticks": "outside",
             "tickwidth": 2
            },
            "colorscale": [
             [
              0,
              "rgb(2,4,25)"
             ],
             [
              0.06274509803921569,
              "rgb(24,15,41)"
             ],
             [
              0.12549019607843137,
              "rgb(47,23,57)"
             ],
             [
              0.18823529411764706,
              "rgb(71,28,72)"
             ],
             [
              0.25098039215686274,
              "rgb(97,30,82)"
             ],
             [
              0.3137254901960784,
              "rgb(123,30,89)"
             ],
             [
              0.3764705882352941,
              "rgb(150,27,91)"
             ],
             [
              0.4392156862745098,
              "rgb(177,22,88)"
             ],
             [
              0.5019607843137255,
              "rgb(203,26,79)"
             ],
             [
              0.5647058823529412,
              "rgb(223,47,67)"
             ],
             [
              0.6274509803921569,
              "rgb(236,76,61)"
             ],
             [
              0.6901960784313725,
              "rgb(242,107,73)"
             ],
             [
              0.7529411764705882,
              "rgb(244,135,95)"
             ],
             [
              0.8156862745098039,
              "rgb(245,162,122)"
             ],
             [
              0.8784313725490196,
              "rgb(246,188,153)"
             ],
             [
              0.9411764705882353,
              "rgb(247,212,187)"
             ],
             [
              1,
              "rgb(250,234,220)"
             ]
            ],
            "type": "contour"
           }
          ],
          "contourcarpet": [
           {
            "colorbar": {
             "outlinewidth": 0,
             "tickcolor": "rgb(36,36,36)",
             "ticklen": 8,
             "ticks": "outside",
             "tickwidth": 2
            },
            "type": "contourcarpet"
           }
          ],
          "heatmap": [
           {
            "colorbar": {
             "outlinewidth": 0,
             "tickcolor": "rgb(36,36,36)",
             "ticklen": 8,
             "ticks": "outside",
             "tickwidth": 2
            },
            "colorscale": [
             [
              0,
              "rgb(2,4,25)"
             ],
             [
              0.06274509803921569,
              "rgb(24,15,41)"
             ],
             [
              0.12549019607843137,
              "rgb(47,23,57)"
             ],
             [
              0.18823529411764706,
              "rgb(71,28,72)"
             ],
             [
              0.25098039215686274,
              "rgb(97,30,82)"
             ],
             [
              0.3137254901960784,
              "rgb(123,30,89)"
             ],
             [
              0.3764705882352941,
              "rgb(150,27,91)"
             ],
             [
              0.4392156862745098,
              "rgb(177,22,88)"
             ],
             [
              0.5019607843137255,
              "rgb(203,26,79)"
             ],
             [
              0.5647058823529412,
              "rgb(223,47,67)"
             ],
             [
              0.6274509803921569,
              "rgb(236,76,61)"
             ],
             [
              0.6901960784313725,
              "rgb(242,107,73)"
             ],
             [
              0.7529411764705882,
              "rgb(244,135,95)"
             ],
             [
              0.8156862745098039,
              "rgb(245,162,122)"
             ],
             [
              0.8784313725490196,
              "rgb(246,188,153)"
             ],
             [
              0.9411764705882353,
              "rgb(247,212,187)"
             ],
             [
              1,
              "rgb(250,234,220)"
             ]
            ],
            "type": "heatmap"
           }
          ],
          "heatmapgl": [
           {
            "colorbar": {
             "outlinewidth": 0,
             "tickcolor": "rgb(36,36,36)",
             "ticklen": 8,
             "ticks": "outside",
             "tickwidth": 2
            },
            "colorscale": [
             [
              0,
              "rgb(2,4,25)"
             ],
             [
              0.06274509803921569,
              "rgb(24,15,41)"
             ],
             [
              0.12549019607843137,
              "rgb(47,23,57)"
             ],
             [
              0.18823529411764706,
              "rgb(71,28,72)"
             ],
             [
              0.25098039215686274,
              "rgb(97,30,82)"
             ],
             [
              0.3137254901960784,
              "rgb(123,30,89)"
             ],
             [
              0.3764705882352941,
              "rgb(150,27,91)"
             ],
             [
              0.4392156862745098,
              "rgb(177,22,88)"
             ],
             [
              0.5019607843137255,
              "rgb(203,26,79)"
             ],
             [
              0.5647058823529412,
              "rgb(223,47,67)"
             ],
             [
              0.6274509803921569,
              "rgb(236,76,61)"
             ],
             [
              0.6901960784313725,
              "rgb(242,107,73)"
             ],
             [
              0.7529411764705882,
              "rgb(244,135,95)"
             ],
             [
              0.8156862745098039,
              "rgb(245,162,122)"
             ],
             [
              0.8784313725490196,
              "rgb(246,188,153)"
             ],
             [
              0.9411764705882353,
              "rgb(247,212,187)"
             ],
             [
              1,
              "rgb(250,234,220)"
             ]
            ],
            "type": "heatmapgl"
           }
          ],
          "histogram": [
           {
            "marker": {
             "pattern": {
              "fillmode": "overlay",
              "size": 10,
              "solidity": 0.2
             }
            },
            "type": "histogram"
           }
          ],
          "histogram2d": [
           {
            "colorbar": {
             "outlinewidth": 0,
             "tickcolor": "rgb(36,36,36)",
             "ticklen": 8,
             "ticks": "outside",
             "tickwidth": 2
            },
            "colorscale": [
             [
              0,
              "rgb(2,4,25)"
             ],
             [
              0.06274509803921569,
              "rgb(24,15,41)"
             ],
             [
              0.12549019607843137,
              "rgb(47,23,57)"
             ],
             [
              0.18823529411764706,
              "rgb(71,28,72)"
             ],
             [
              0.25098039215686274,
              "rgb(97,30,82)"
             ],
             [
              0.3137254901960784,
              "rgb(123,30,89)"
             ],
             [
              0.3764705882352941,
              "rgb(150,27,91)"
             ],
             [
              0.4392156862745098,
              "rgb(177,22,88)"
             ],
             [
              0.5019607843137255,
              "rgb(203,26,79)"
             ],
             [
              0.5647058823529412,
              "rgb(223,47,67)"
             ],
             [
              0.6274509803921569,
              "rgb(236,76,61)"
             ],
             [
              0.6901960784313725,
              "rgb(242,107,73)"
             ],
             [
              0.7529411764705882,
              "rgb(244,135,95)"
             ],
             [
              0.8156862745098039,
              "rgb(245,162,122)"
             ],
             [
              0.8784313725490196,
              "rgb(246,188,153)"
             ],
             [
              0.9411764705882353,
              "rgb(247,212,187)"
             ],
             [
              1,
              "rgb(250,234,220)"
             ]
            ],
            "type": "histogram2d"
           }
          ],
          "histogram2dcontour": [
           {
            "colorbar": {
             "outlinewidth": 0,
             "tickcolor": "rgb(36,36,36)",
             "ticklen": 8,
             "ticks": "outside",
             "tickwidth": 2
            },
            "colorscale": [
             [
              0,
              "rgb(2,4,25)"
             ],
             [
              0.06274509803921569,
              "rgb(24,15,41)"
             ],
             [
              0.12549019607843137,
              "rgb(47,23,57)"
             ],
             [
              0.18823529411764706,
              "rgb(71,28,72)"
             ],
             [
              0.25098039215686274,
              "rgb(97,30,82)"
             ],
             [
              0.3137254901960784,
              "rgb(123,30,89)"
             ],
             [
              0.3764705882352941,
              "rgb(150,27,91)"
             ],
             [
              0.4392156862745098,
              "rgb(177,22,88)"
             ],
             [
              0.5019607843137255,
              "rgb(203,26,79)"
             ],
             [
              0.5647058823529412,
              "rgb(223,47,67)"
             ],
             [
              0.6274509803921569,
              "rgb(236,76,61)"
             ],
             [
              0.6901960784313725,
              "rgb(242,107,73)"
             ],
             [
              0.7529411764705882,
              "rgb(244,135,95)"
             ],
             [
              0.8156862745098039,
              "rgb(245,162,122)"
             ],
             [
              0.8784313725490196,
              "rgb(246,188,153)"
             ],
             [
              0.9411764705882353,
              "rgb(247,212,187)"
             ],
             [
              1,
              "rgb(250,234,220)"
             ]
            ],
            "type": "histogram2dcontour"
           }
          ],
          "mesh3d": [
           {
            "colorbar": {
             "outlinewidth": 0,
             "tickcolor": "rgb(36,36,36)",
             "ticklen": 8,
             "ticks": "outside",
             "tickwidth": 2
            },
            "type": "mesh3d"
           }
          ],
          "parcoords": [
           {
            "line": {
             "colorbar": {
              "outlinewidth": 0,
              "tickcolor": "rgb(36,36,36)",
              "ticklen": 8,
              "ticks": "outside",
              "tickwidth": 2
             }
            },
            "type": "parcoords"
           }
          ],
          "pie": [
           {
            "automargin": true,
            "type": "pie"
           }
          ],
          "scatter": [
           {
            "marker": {
             "colorbar": {
              "outlinewidth": 0,
              "tickcolor": "rgb(36,36,36)",
              "ticklen": 8,
              "ticks": "outside",
              "tickwidth": 2
             }
            },
            "type": "scatter"
           }
          ],
          "scatter3d": [
           {
            "line": {
             "colorbar": {
              "outlinewidth": 0,
              "tickcolor": "rgb(36,36,36)",
              "ticklen": 8,
              "ticks": "outside",
              "tickwidth": 2
             }
            },
            "marker": {
             "colorbar": {
              "outlinewidth": 0,
              "tickcolor": "rgb(36,36,36)",
              "ticklen": 8,
              "ticks": "outside",
              "tickwidth": 2
             }
            },
            "type": "scatter3d"
           }
          ],
          "scattercarpet": [
           {
            "marker": {
             "colorbar": {
              "outlinewidth": 0,
              "tickcolor": "rgb(36,36,36)",
              "ticklen": 8,
              "ticks": "outside",
              "tickwidth": 2
             }
            },
            "type": "scattercarpet"
           }
          ],
          "scattergeo": [
           {
            "marker": {
             "colorbar": {
              "outlinewidth": 0,
              "tickcolor": "rgb(36,36,36)",
              "ticklen": 8,
              "ticks": "outside",
              "tickwidth": 2
             }
            },
            "type": "scattergeo"
           }
          ],
          "scattergl": [
           {
            "marker": {
             "colorbar": {
              "outlinewidth": 0,
              "tickcolor": "rgb(36,36,36)",
              "ticklen": 8,
              "ticks": "outside",
              "tickwidth": 2
             }
            },
            "type": "scattergl"
           }
          ],
          "scattermapbox": [
           {
            "marker": {
             "colorbar": {
              "outlinewidth": 0,
              "tickcolor": "rgb(36,36,36)",
              "ticklen": 8,
              "ticks": "outside",
              "tickwidth": 2
             }
            },
            "type": "scattermapbox"
           }
          ],
          "scatterpolar": [
           {
            "marker": {
             "colorbar": {
              "outlinewidth": 0,
              "tickcolor": "rgb(36,36,36)",
              "ticklen": 8,
              "ticks": "outside",
              "tickwidth": 2
             }
            },
            "type": "scatterpolar"
           }
          ],
          "scatterpolargl": [
           {
            "marker": {
             "colorbar": {
              "outlinewidth": 0,
              "tickcolor": "rgb(36,36,36)",
              "ticklen": 8,
              "ticks": "outside",
              "tickwidth": 2
             }
            },
            "type": "scatterpolargl"
           }
          ],
          "scatterternary": [
           {
            "marker": {
             "colorbar": {
              "outlinewidth": 0,
              "tickcolor": "rgb(36,36,36)",
              "ticklen": 8,
              "ticks": "outside",
              "tickwidth": 2
             }
            },
            "type": "scatterternary"
           }
          ],
          "surface": [
           {
            "colorbar": {
             "outlinewidth": 0,
             "tickcolor": "rgb(36,36,36)",
             "ticklen": 8,
             "ticks": "outside",
             "tickwidth": 2
            },
            "colorscale": [
             [
              0,
              "rgb(2,4,25)"
             ],
             [
              0.06274509803921569,
              "rgb(24,15,41)"
             ],
             [
              0.12549019607843137,
              "rgb(47,23,57)"
             ],
             [
              0.18823529411764706,
              "rgb(71,28,72)"
             ],
             [
              0.25098039215686274,
              "rgb(97,30,82)"
             ],
             [
              0.3137254901960784,
              "rgb(123,30,89)"
             ],
             [
              0.3764705882352941,
              "rgb(150,27,91)"
             ],
             [
              0.4392156862745098,
              "rgb(177,22,88)"
             ],
             [
              0.5019607843137255,
              "rgb(203,26,79)"
             ],
             [
              0.5647058823529412,
              "rgb(223,47,67)"
             ],
             [
              0.6274509803921569,
              "rgb(236,76,61)"
             ],
             [
              0.6901960784313725,
              "rgb(242,107,73)"
             ],
             [
              0.7529411764705882,
              "rgb(244,135,95)"
             ],
             [
              0.8156862745098039,
              "rgb(245,162,122)"
             ],
             [
              0.8784313725490196,
              "rgb(246,188,153)"
             ],
             [
              0.9411764705882353,
              "rgb(247,212,187)"
             ],
             [
              1,
              "rgb(250,234,220)"
             ]
            ],
            "type": "surface"
           }
          ],
          "table": [
           {
            "cells": {
             "fill": {
              "color": "rgb(231,231,240)"
             },
             "line": {
              "color": "white"
             }
            },
            "header": {
             "fill": {
              "color": "rgb(183,183,191)"
             },
             "line": {
              "color": "white"
             }
            },
            "type": "table"
           }
          ]
         },
         "layout": {
          "annotationdefaults": {
           "arrowcolor": "rgb(67,103,167)"
          },
          "autotypenumbers": "strict",
          "coloraxis": {
           "colorbar": {
            "outlinewidth": 0,
            "tickcolor": "rgb(36,36,36)",
            "ticklen": 8,
            "ticks": "outside",
            "tickwidth": 2
           }
          },
          "colorscale": {
           "sequential": [
            [
             0,
             "rgb(2,4,25)"
            ],
            [
             0.06274509803921569,
             "rgb(24,15,41)"
            ],
            [
             0.12549019607843137,
             "rgb(47,23,57)"
            ],
            [
             0.18823529411764706,
             "rgb(71,28,72)"
            ],
            [
             0.25098039215686274,
             "rgb(97,30,82)"
            ],
            [
             0.3137254901960784,
             "rgb(123,30,89)"
            ],
            [
             0.3764705882352941,
             "rgb(150,27,91)"
            ],
            [
             0.4392156862745098,
             "rgb(177,22,88)"
            ],
            [
             0.5019607843137255,
             "rgb(203,26,79)"
            ],
            [
             0.5647058823529412,
             "rgb(223,47,67)"
            ],
            [
             0.6274509803921569,
             "rgb(236,76,61)"
            ],
            [
             0.6901960784313725,
             "rgb(242,107,73)"
            ],
            [
             0.7529411764705882,
             "rgb(244,135,95)"
            ],
            [
             0.8156862745098039,
             "rgb(245,162,122)"
            ],
            [
             0.8784313725490196,
             "rgb(246,188,153)"
            ],
            [
             0.9411764705882353,
             "rgb(247,212,187)"
            ],
            [
             1,
             "rgb(250,234,220)"
            ]
           ],
           "sequentialminus": [
            [
             0,
             "rgb(2,4,25)"
            ],
            [
             0.06274509803921569,
             "rgb(24,15,41)"
            ],
            [
             0.12549019607843137,
             "rgb(47,23,57)"
            ],
            [
             0.18823529411764706,
             "rgb(71,28,72)"
            ],
            [
             0.25098039215686274,
             "rgb(97,30,82)"
            ],
            [
             0.3137254901960784,
             "rgb(123,30,89)"
            ],
            [
             0.3764705882352941,
             "rgb(150,27,91)"
            ],
            [
             0.4392156862745098,
             "rgb(177,22,88)"
            ],
            [
             0.5019607843137255,
             "rgb(203,26,79)"
            ],
            [
             0.5647058823529412,
             "rgb(223,47,67)"
            ],
            [
             0.6274509803921569,
             "rgb(236,76,61)"
            ],
            [
             0.6901960784313725,
             "rgb(242,107,73)"
            ],
            [
             0.7529411764705882,
             "rgb(244,135,95)"
            ],
            [
             0.8156862745098039,
             "rgb(245,162,122)"
            ],
            [
             0.8784313725490196,
             "rgb(246,188,153)"
            ],
            [
             0.9411764705882353,
             "rgb(247,212,187)"
            ],
            [
             1,
             "rgb(250,234,220)"
            ]
           ]
          },
          "colorway": [
           "rgb(76,114,176)",
           "rgb(221,132,82)",
           "rgb(85,168,104)",
           "rgb(196,78,82)",
           "rgb(129,114,179)",
           "rgb(147,120,96)",
           "rgb(218,139,195)",
           "rgb(140,140,140)",
           "rgb(204,185,116)",
           "rgb(100,181,205)"
          ],
          "font": {
           "color": "rgb(36,36,36)"
          },
          "geo": {
           "bgcolor": "white",
           "lakecolor": "white",
           "landcolor": "rgb(234,234,242)",
           "showlakes": true,
           "showland": true,
           "subunitcolor": "white"
          },
          "hoverlabel": {
           "align": "left"
          },
          "hovermode": "closest",
          "paper_bgcolor": "white",
          "plot_bgcolor": "rgb(234,234,242)",
          "polar": {
           "angularaxis": {
            "gridcolor": "white",
            "linecolor": "white",
            "showgrid": true,
            "ticks": ""
           },
           "bgcolor": "rgb(234,234,242)",
           "radialaxis": {
            "gridcolor": "white",
            "linecolor": "white",
            "showgrid": true,
            "ticks": ""
           }
          },
          "scene": {
           "xaxis": {
            "backgroundcolor": "rgb(234,234,242)",
            "gridcolor": "white",
            "gridwidth": 2,
            "linecolor": "white",
            "showbackground": true,
            "showgrid": true,
            "ticks": "",
            "zerolinecolor": "white"
           },
           "yaxis": {
            "backgroundcolor": "rgb(234,234,242)",
            "gridcolor": "white",
            "gridwidth": 2,
            "linecolor": "white",
            "showbackground": true,
            "showgrid": true,
            "ticks": "",
            "zerolinecolor": "white"
           },
           "zaxis": {
            "backgroundcolor": "rgb(234,234,242)",
            "gridcolor": "white",
            "gridwidth": 2,
            "linecolor": "white",
            "showbackground": true,
            "showgrid": true,
            "ticks": "",
            "zerolinecolor": "white"
           }
          },
          "shapedefaults": {
           "fillcolor": "rgb(67,103,167)",
           "line": {
            "width": 0
           },
           "opacity": 0.5
          },
          "ternary": {
           "aaxis": {
            "gridcolor": "white",
            "linecolor": "white",
            "showgrid": true,
            "ticks": ""
           },
           "baxis": {
            "gridcolor": "white",
            "linecolor": "white",
            "showgrid": true,
            "ticks": ""
           },
           "bgcolor": "rgb(234,234,242)",
           "caxis": {
            "gridcolor": "white",
            "linecolor": "white",
            "showgrid": true,
            "ticks": ""
           }
          },
          "xaxis": {
           "automargin": true,
           "gridcolor": "white",
           "linecolor": "white",
           "showgrid": true,
           "ticks": "",
           "title": {
            "standoff": 15
           },
           "zerolinecolor": "white"
          },
          "yaxis": {
           "automargin": true,
           "gridcolor": "white",
           "linecolor": "white",
           "showgrid": true,
           "ticks": "",
           "title": {
            "standoff": 15
           },
           "zerolinecolor": "white"
          }
         }
        },
        "xaxis": {
         "anchor": "y",
         "autorange": true,
         "domain": [
          0,
          1
         ],
         "range": [
          0,
          4398.757894736841
         ],
         "title": {},
         "type": "linear"
        },
        "yaxis": {
         "anchor": "x",
         "autorange": true,
         "domain": [
          0,
          1
         ],
         "range": [
          -0.5,
          0.5
         ],
         "showticklabels": false,
         "title": {},
         "type": "category"
        }
       }
      },
      "image/png": "[encoded data removed]",
      "text/html": [
       "<div>                            <div id=\"ce0ac067-b0fe-42d2-a6be-983023093317\" class=\"plotly-graph-div\" style=\"height:300px; width:100%;\"></div>            <script type=\"text/javascript\">                require([\"plotly\"], function(Plotly) {                    window.PLOTLYENV=window.PLOTLYENV || {};                                    if (document.getElementById(\"ce0ac067-b0fe-42d2-a6be-983023093317\")) {                    Plotly.newPlot(                        \"ce0ac067-b0fe-42d2-a6be-983023093317\",                        [{\"alignmentgroup\":\"True\",\"hovertemplate\":\"Brand=BWS<br>Receipt Total=%{x}<br>Card Number=%{y}<extra></extra>\",\"legendgroup\":\"BWS\",\"marker\":{\"color\":\"rgb(76,114,176)\",\"pattern\":{\"shape\":\"\"}},\"name\":\"BWS\",\"offsetgroup\":\"BWS\",\"orientation\":\"h\",\"showlegend\":true,\"textposition\":\"auto\",\"type\":\"bar\",\"x\":[40.0],\"xaxis\":\"x\",\"y\":[\"9355036811085\"],\"yaxis\":\"y\"},{\"alignmentgroup\":\"True\",\"hovertemplate\":\"Brand=Supermarkets<br>Receipt Total=%{x}<br>Card Number=%{y}<extra></extra>\",\"legendgroup\":\"Supermarkets\",\"marker\":{\"color\":\"rgb(221,132,82)\",\"pattern\":{\"shape\":\"\"}},\"name\":\"Supermarkets\",\"offsetgroup\":\"Supermarkets\",\"orientation\":\"h\",\"showlegend\":true,\"textposition\":\"auto\",\"type\":\"bar\",\"x\":[49.72,20.94,93.34,91.1,18.32,85.48,22.15,64.82,80.0,22.09,70.0,26.54,46.52,80.0,40.0,4.8,10.41,83.0,29.68,54.0,9.3,78.24,32.07,40.0,29.39,64.91,4.82,64.34,5.4,24.55,5.65,50.84,3.0,29.0,24.0,12.45,8.31,38.0,50.0,4.56,24.26,39.0,63.03,5.76,44.97,1.6,17.94,33.66,3.74,4.8,7.0,35.11,32.85,51.01,15.19,58.22,30.07,31.47,77.96,55.55,61.26,42.79,34.58,36.0,9.0,65.0,11.1,70.0,70.0,59.0,8.1,18.7,29.89,13.12,64.0,4.1,16.7,44.4,22.6,4.4,8.7,85.64,53.3,41.57,68.95,45.79,34.64,49.52,31.68,12.8,53.72,38.59,29.91,32.8,27.29,75.65,64.6,21.11,23.67,3.6,23.21,50.7,44.7,32.75,6.3,56.47,38.23],\"xaxis\":\"x\",\"y\":[\"9355036811085\",\"9355036811085\",\"9355036811085\",\"9355036811085\",\"9355036811085\",\"9355036811085\",\"9355036811085\",\"9355036811085\",\"9355036811085\",\"9355036811085\",\"9355036811085\",\"9355036811085\",\"9355036811085\",\"9355036811085\",\"9355036811085\",\"9355036811085\",\"9355036811085\",\"9355036811085\",\"9355036811085\",\"9355036811085\",\"9355036811085\",\"9355036811085\",\"9355036811085\",\"9355036811085\",\"9355036811085\",\"9355036811085\",\"9355036811085\",\"9355036811085\",\"9355036811085\",\"9355036811085\",\"9355036811085\",\"9355036811085\",\"9355036811085\",\"9355036811085\",\"9355036811085\",\"9355036811085\",\"9355036811085\",\"9355036811085\",\"9355036811085\",\"9355036811085\",\"9355036811085\",\"9355036811085\",\"9355036811085\",\"9355036811085\",\"9355036811085\",\"9355036811085\",\"9355036811085\",\"9355036811085\",\"9355036811085\",\"9355036811085\",\"9355036811085\",\"9355036811085\",\"9355036811085\",\"9355036811085\",\"9355036811085\",\"9355036811085\",\"9355036811085\",\"9355036811085\",\"9355036811085\",\"9355036811085\",\"9355036811085\",\"9355036811085\",\"9355036811085\",\"9355036811085\",\"9355036811085\",\"9355036811085\",\"9355036811085\",\"9355036811085\",\"9355036811085\",\"9355036811085\",\"9355036811085\",\"9355036811085\",\"9355036811085\",\"9355036811085\",\"9355036811085\",\"9355036811085\",\"9355036811085\",\"9355036811085\",\"9355036811085\",\"9355036811085\",\"9355036811085\",\"9355036811085\",\"9355036811085\",\"9355036811085\",\"9355036811085\",\"9355036811085\",\"9355036811085\",\"9355036811085\",\"9355036811085\",\"9355036811085\",\"9355036811085\",\"9355036811085\",\"9355036811085\",\"9355036811085\",\"9355036811085\",\"9355036811085\",\"9355036811085\",\"9355036811085\",\"9355036811085\",\"9355036811085\",\"9355036811085\",\"9355036811085\",\"9355036811085\",\"9355036811085\",\"9355036811085\",\"9355036811085\",\"9355036811085\"],\"yaxis\":\"y\"},{\"alignmentgroup\":\"True\",\"hovertemplate\":\"Brand=Other<br>Receipt Total=%{x}<br>Card Number=%{y}<extra></extra>\",\"legendgroup\":\"Other\",\"marker\":{\"color\":\"rgb(85,168,104)\",\"pattern\":{\"shape\":\"\"}},\"name\":\"Other\",\"offsetgroup\":\"Other\",\"orientation\":\"h\",\"showlegend\":true,\"textposition\":\"auto\",\"type\":\"bar\",\"x\":[24.08,48.97,51.35,63.06],\"xaxis\":\"x\",\"y\":[\"9355036811085\",\"9355036811085\",\"9355036811085\",\"9355036811085\"],\"yaxis\":\"y\"},{\"alignmentgroup\":\"True\",\"hovertemplate\":\"Brand=WW Metro<br>Receipt Total=%{x}<br>Card Number=%{y}<extra></extra>\",\"legendgroup\":\"WW Metro\",\"marker\":{\"color\":\"rgb(196,78,82)\",\"pattern\":{\"shape\":\"\"}},\"name\":\"WW Metro\",\"offsetgroup\":\"WW Metro\",\"orientation\":\"h\",\"showlegend\":true,\"textposition\":\"auto\",\"type\":\"bar\",\"x\":[5.8],\"xaxis\":\"x\",\"y\":[\"9355036811085\"],\"yaxis\":\"y\"}],                        {\"barmode\":\"relative\",\"height\":300,\"legend\":{\"title\":{\"text\":\"Brand\"},\"tracegroupgap\":0},\"margin\":{\"t\":60},\"showlegend\":true,\"template\":{\"data\":{\"bar\":[{\"error_x\":{\"color\":\"rgb(36,36,36)\"},\"error_y\":{\"color\":\"rgb(36,36,36)\"},\"marker\":{\"line\":{\"color\":\"rgb(234,234,242)\",\"width\":0.5},\"pattern\":{\"fillmode\":\"overlay\",\"size\":10,\"solidity\":0.2}},\"type\":\"bar\"}],\"barpolar\":[{\"marker\":{\"line\":{\"color\":\"rgb(234,234,242)\",\"width\":0.5},\"pattern\":{\"fillmode\":\"overlay\",\"size\":10,\"solidity\":0.2}},\"type\":\"barpolar\"}],\"carpet\":[{\"aaxis\":{\"endlinecolor\":\"rgb(36,36,36)\",\"gridcolor\":\"white\",\"linecolor\":\"white\",\"minorgridcolor\":\"white\",\"startlinecolor\":\"rgb(36,36,36)\"},\"baxis\":{\"endlinecolor\":\"rgb(36,36,36)\",\"gridcolor\":\"white\",\"linecolor\":\"white\",\"minorgridcolor\":\"white\",\"startlinecolor\":\"rgb(36,36,36)\"},\"type\":\"carpet\"}],\"choropleth\":[{\"colorbar\":{\"outlinewidth\":0,\"tickcolor\":\"rgb(36,36,36)\",\"ticklen\":8,\"ticks\":\"outside\",\"tickwidth\":2},\"type\":\"choropleth\"}],\"contour\":[{\"colorbar\":{\"outlinewidth\":0,\"tickcolor\":\"rgb(36,36,36)\",\"ticklen\":8,\"ticks\":\"outside\",\"tickwidth\":2},\"colorscale\":[[0.0,\"rgb(2,4,25)\"],[0.06274509803921569,\"rgb(24,15,41)\"],[0.12549019607843137,\"rgb(47,23,57)\"],[0.18823529411764706,\"rgb(71,28,72)\"],[0.25098039215686274,\"rgb(97,30,82)\"],[0.3137254901960784,\"rgb(123,30,89)\"],[0.3764705882352941,\"rgb(150,27,91)\"],[0.4392156862745098,\"rgb(177,22,88)\"],[0.5019607843137255,\"rgb(203,26,79)\"],[0.5647058823529412,\"rgb(223,47,67)\"],[0.6274509803921569,\"rgb(236,76,61)\"],[0.6901960784313725,\"rgb(242,107,73)\"],[0.7529411764705882,\"rgb(244,135,95)\"],[0.8156862745098039,\"rgb(245,162,122)\"],[0.8784313725490196,\"rgb(246,188,153)\"],[0.9411764705882353,\"rgb(247,212,187)\"],[1.0,\"rgb(250,234,220)\"]],\"type\":\"contour\"}],\"contourcarpet\":[{\"colorbar\":{\"outlinewidth\":0,\"tickcolor\":\"rgb(36,36,36)\",\"ticklen\":8,\"ticks\":\"outside\",\"tickwidth\":2},\"type\":\"contourcarpet\"}],\"heatmap\":[{\"colorbar\":{\"outlinewidth\":0,\"tickcolor\":\"rgb(36,36,36)\",\"ticklen\":8,\"ticks\":\"outside\",\"tickwidth\":2},\"colorscale\":[[0.0,\"rgb(2,4,25)\"],[0.06274509803921569,\"rgb(24,15,41)\"],[0.12549019607843137,\"rgb(47,23,57)\"],[0.18823529411764706,\"rgb(71,28,72)\"],[0.25098039215686274,\"rgb(97,30,82)\"],[0.3137254901960784,\"rgb(123,30,89)\"],[0.3764705882352941,\"rgb(150,27,91)\"],[0.4392156862745098,\"rgb(177,22,88)\"],[0.5019607843137255,\"rgb(203,26,79)\"],[0.5647058823529412,\"rgb(223,47,67)\"],[0.6274509803921569,\"rgb(236,76,61)\"],[0.6901960784313725,\"rgb(242,107,73)\"],[0.7529411764705882,\"rgb(244,135,95)\"],[0.8156862745098039,\"rgb(245,162,122)\"],[0.8784313725490196,\"rgb(246,188,153)\"],[0.9411764705882353,\"rgb(247,212,187)\"],[1.0,\"rgb(250,234,220)\"]],\"type\":\"heatmap\"}],\"heatmapgl\":[{\"colorbar\":{\"outlinewidth\":0,\"tickcolor\":\"rgb(36,36,36)\",\"ticklen\":8,\"ticks\":\"outside\",\"tickwidth\":2},\"colorscale\":[[0.0,\"rgb(2,4,25)\"],[0.06274509803921569,\"rgb(24,15,41)\"],[0.12549019607843137,\"rgb(47,23,57)\"],[0.18823529411764706,\"rgb(71,28,72)\"],[0.25098039215686274,\"rgb(97,30,82)\"],[0.3137254901960784,\"rgb(123,30,89)\"],[0.3764705882352941,\"rgb(150,27,91)\"],[0.4392156862745098,\"rgb(177,22,88)\"],[0.5019607843137255,\"rgb(203,26,79)\"],[0.5647058823529412,\"rgb(223,47,67)\"],[0.6274509803921569,\"rgb(236,76,61)\"],[0.6901960784313725,\"rgb(242,107,73)\"],[0.7529411764705882,\"rgb(244,135,95)\"],[0.8156862745098039,\"rgb(245,162,122)\"],[0.8784313725490196,\"rgb(246,188,153)\"],[0.9411764705882353,\"rgb(247,212,187)\"],[1.0,\"rgb(250,234,220)\"]],\"type\":\"heatmapgl\"}],\"histogram\":[{\"marker\":{\"pattern\":{\"fillmode\":\"overlay\",\"size\":10,\"solidity\":0.2}},\"type\":\"histogram\"}],\"histogram2d\":[{\"colorbar\":{\"outlinewidth\":0,\"tickcolor\":\"rgb(36,36,36)\",\"ticklen\":8,\"ticks\":\"outside\",\"tickwidth\":2},\"colorscale\":[[0.0,\"rgb(2,4,25)\"],[0.06274509803921569,\"rgb(24,15,41)\"],[0.12549019607843137,\"rgb(47,23,57)\"],[0.18823529411764706,\"rgb(71,28,72)\"],[0.25098039215686274,\"rgb(97,30,82)\"],[0.3137254901960784,\"rgb(123,30,89)\"],[0.3764705882352941,\"rgb(150,27,91)\"],[0.4392156862745098,\"rgb(177,22,88)\"],[0.5019607843137255,\"rgb(203,26,79)\"],[0.5647058823529412,\"rgb(223,47,67)\"],[0.6274509803921569,\"rgb(236,76,61)\"],[0.6901960784313725,\"rgb(242,107,73)\"],[0.7529411764705882,\"rgb(244,135,95)\"],[0.8156862745098039,\"rgb(245,162,122)\"],[0.8784313725490196,\"rgb(246,188,153)\"],[0.9411764705882353,\"rgb(247,212,187)\"],[1.0,\"rgb(250,234,220)\"]],\"type\":\"histogram2d\"}],\"histogram2dcontour\":[{\"colorbar\":{\"outlinewidth\":0,\"tickcolor\":\"rgb(36,36,36)\",\"ticklen\":8,\"ticks\":\"outside\",\"tickwidth\":2},\"colorscale\":[[0.0,\"rgb(2,4,25)\"],[0.06274509803921569,\"rgb(24,15,41)\"],[0.12549019607843137,\"rgb(47,23,57)\"],[0.18823529411764706,\"rgb(71,28,72)\"],[0.25098039215686274,\"rgb(97,30,82)\"],[0.3137254901960784,\"rgb(123,30,89)\"],[0.3764705882352941,\"rgb(150,27,91)\"],[0.4392156862745098,\"rgb(177,22,88)\"],[0.5019607843137255,\"rgb(203,26,79)\"],[0.5647058823529412,\"rgb(223,47,67)\"],[0.6274509803921569,\"rgb(236,76,61)\"],[0.6901960784313725,\"rgb(242,107,73)\"],[0.7529411764705882,\"rgb(244,135,95)\"],[0.8156862745098039,\"rgb(245,162,122)\"],[0.8784313725490196,\"rgb(246,188,153)\"],[0.9411764705882353,\"rgb(247,212,187)\"],[1.0,\"rgb(250,234,220)\"]],\"type\":\"histogram2dcontour\"}],\"mesh3d\":[{\"colorbar\":{\"outlinewidth\":0,\"tickcolor\":\"rgb(36,36,36)\",\"ticklen\":8,\"ticks\":\"outside\",\"tickwidth\":2},\"type\":\"mesh3d\"}],\"parcoords\":[{\"line\":{\"colorbar\":{\"outlinewidth\":0,\"tickcolor\":\"rgb(36,36,36)\",\"ticklen\":8,\"ticks\":\"outside\",\"tickwidth\":2}},\"type\":\"parcoords\"}],\"pie\":[{\"automargin\":true,\"type\":\"pie\"}],\"scatter\":[{\"marker\":{\"colorbar\":{\"outlinewidth\":0,\"tickcolor\":\"rgb(36,36,36)\",\"ticklen\":8,\"ticks\":\"outside\",\"tickwidth\":2}},\"type\":\"scatter\"}],\"scatter3d\":[{\"line\":{\"colorbar\":{\"outlinewidth\":0,\"tickcolor\":\"rgb(36,36,36)\",\"ticklen\":8,\"ticks\":\"outside\",\"tickwidth\":2}},\"marker\":{\"colorbar\":{\"outlinewidth\":0,\"tickcolor\":\"rgb(36,36,36)\",\"ticklen\":8,\"ticks\":\"outside\",\"tickwidth\":2}},\"type\":\"scatter3d\"}],\"scattercarpet\":[{\"marker\":{\"colorbar\":{\"outlinewidth\":0,\"tickcolor\":\"rgb(36,36,36)\",\"ticklen\":8,\"ticks\":\"outside\",\"tickwidth\":2}},\"type\":\"scattercarpet\"}],\"scattergeo\":[{\"marker\":{\"colorbar\":{\"outlinewidth\":0,\"tickcolor\":\"rgb(36,36,36)\",\"ticklen\":8,\"ticks\":\"outside\",\"tickwidth\":2}},\"type\":\"scattergeo\"}],\"scattergl\":[{\"marker\":{\"colorbar\":{\"outlinewidth\":0,\"tickcolor\":\"rgb(36,36,36)\",\"ticklen\":8,\"ticks\":\"outside\",\"tickwidth\":2}},\"type\":\"scattergl\"}],\"scattermapbox\":[{\"marker\":{\"colorbar\":{\"outlinewidth\":0,\"tickcolor\":\"rgb(36,36,36)\",\"ticklen\":8,\"ticks\":\"outside\",\"tickwidth\":2}},\"type\":\"scattermapbox\"}],\"scatterpolar\":[{\"marker\":{\"colorbar\":{\"outlinewidth\":0,\"tickcolor\":\"rgb(36,36,36)\",\"ticklen\":8,\"ticks\":\"outside\",\"tickwidth\":2}},\"type\":\"scatterpolar\"}],\"scatterpolargl\":[{\"marker\":{\"colorbar\":{\"outlinewidth\":0,\"tickcolor\":\"rgb(36,36,36)\",\"ticklen\":8,\"ticks\":\"outside\",\"tickwidth\":2}},\"type\":\"scatterpolargl\"}],\"scatterternary\":[{\"marker\":{\"colorbar\":{\"outlinewidth\":0,\"tickcolor\":\"rgb(36,36,36)\",\"ticklen\":8,\"ticks\":\"outside\",\"tickwidth\":2}},\"type\":\"scatterternary\"}],\"surface\":[{\"colorbar\":{\"outlinewidth\":0,\"tickcolor\":\"rgb(36,36,36)\",\"ticklen\":8,\"ticks\":\"outside\",\"tickwidth\":2},\"colorscale\":[[0.0,\"rgb(2,4,25)\"],[0.06274509803921569,\"rgb(24,15,41)\"],[0.12549019607843137,\"rgb(47,23,57)\"],[0.18823529411764706,\"rgb(71,28,72)\"],[0.25098039215686274,\"rgb(97,30,82)\"],[0.3137254901960784,\"rgb(123,30,89)\"],[0.3764705882352941,\"rgb(150,27,91)\"],[0.4392156862745098,\"rgb(177,22,88)\"],[0.5019607843137255,\"rgb(203,26,79)\"],[0.5647058823529412,\"rgb(223,47,67)\"],[0.6274509803921569,\"rgb(236,76,61)\"],[0.6901960784313725,\"rgb(242,107,73)\"],[0.7529411764705882,\"rgb(244,135,95)\"],[0.8156862745098039,\"rgb(245,162,122)\"],[0.8784313725490196,\"rgb(246,188,153)\"],[0.9411764705882353,\"rgb(247,212,187)\"],[1.0,\"rgb(250,234,220)\"]],\"type\":\"surface\"}],\"table\":[{\"cells\":{\"fill\":{\"color\":\"rgb(231,231,240)\"},\"line\":{\"color\":\"white\"}},\"header\":{\"fill\":{\"color\":\"rgb(183,183,191)\"},\"line\":{\"color\":\"white\"}},\"type\":\"table\"}]},\"layout\":{\"annotationdefaults\":{\"arrowcolor\":\"rgb(67,103,167)\"},\"autotypenumbers\":\"strict\",\"coloraxis\":{\"colorbar\":{\"outlinewidth\":0,\"tickcolor\":\"rgb(36,36,36)\",\"ticklen\":8,\"ticks\":\"outside\",\"tickwidth\":2}},\"colorscale\":{\"sequential\":[[0.0,\"rgb(2,4,25)\"],[0.06274509803921569,\"rgb(24,15,41)\"],[0.12549019607843137,\"rgb(47,23,57)\"],[0.18823529411764706,\"rgb(71,28,72)\"],[0.25098039215686274,\"rgb(97,30,82)\"],[0.3137254901960784,\"rgb(123,30,89)\"],[0.3764705882352941,\"rgb(150,27,91)\"],[0.4392156862745098,\"rgb(177,22,88)\"],[0.5019607843137255,\"rgb(203,26,79)\"],[0.5647058823529412,\"rgb(223,47,67)\"],[0.6274509803921569,\"rgb(236,76,61)\"],[0.6901960784313725,\"rgb(242,107,73)\"],[0.7529411764705882,\"rgb(244,135,95)\"],[0.8156862745098039,\"rgb(245,162,122)\"],[0.8784313725490196,\"rgb(246,188,153)\"],[0.9411764705882353,\"rgb(247,212,187)\"],[1.0,\"rgb(250,234,220)\"]],\"sequentialminus\":[[0.0,\"rgb(2,4,25)\"],[0.06274509803921569,\"rgb(24,15,41)\"],[0.12549019607843137,\"rgb(47,23,57)\"],[0.18823529411764706,\"rgb(71,28,72)\"],[0.25098039215686274,\"rgb(97,30,82)\"],[0.3137254901960784,\"rgb(123,30,89)\"],[0.3764705882352941,\"rgb(150,27,91)\"],[0.4392156862745098,\"rgb(177,22,88)\"],[0.5019607843137255,\"rgb(203,26,79)\"],[0.5647058823529412,\"rgb(223,47,67)\"],[0.6274509803921569,\"rgb(236,76,61)\"],[0.6901960784313725,\"rgb(242,107,73)\"],[0.7529411764705882,\"rgb(244,135,95)\"],[0.8156862745098039,\"rgb(245,162,122)\"],[0.8784313725490196,\"rgb(246,188,153)\"],[0.9411764705882353,\"rgb(247,212,187)\"],[1.0,\"rgb(250,234,220)\"]]},\"colorway\":[\"rgb(76,114,176)\",\"rgb(221,132,82)\",\"rgb(85,168,104)\",\"rgb(196,78,82)\",\"rgb(129,114,179)\",\"rgb(147,120,96)\",\"rgb(218,139,195)\",\"rgb(140,140,140)\",\"rgb(204,185,116)\",\"rgb(100,181,205)\"],\"font\":{\"color\":\"rgb(36,36,36)\"},\"geo\":{\"bgcolor\":\"white\",\"lakecolor\":\"white\",\"landcolor\":\"rgb(234,234,242)\",\"showlakes\":true,\"showland\":true,\"subunitcolor\":\"white\"},\"hoverlabel\":{\"align\":\"left\"},\"hovermode\":\"closest\",\"paper_bgcolor\":\"white\",\"plot_bgcolor\":\"rgb(234,234,242)\",\"polar\":{\"angularaxis\":{\"gridcolor\":\"white\",\"linecolor\":\"white\",\"showgrid\":true,\"ticks\":\"\"},\"bgcolor\":\"rgb(234,234,242)\",\"radialaxis\":{\"gridcolor\":\"white\",\"linecolor\":\"white\",\"showgrid\":true,\"ticks\":\"\"}},\"scene\":{\"xaxis\":{\"backgroundcolor\":\"rgb(234,234,242)\",\"gridcolor\":\"white\",\"gridwidth\":2,\"linecolor\":\"white\",\"showbackground\":true,\"showgrid\":true,\"ticks\":\"\",\"zerolinecolor\":\"white\"},\"yaxis\":{\"backgroundcolor\":\"rgb(234,234,242)\",\"gridcolor\":\"white\",\"gridwidth\":2,\"linecolor\":\"white\",\"showbackground\":true,\"showgrid\":true,\"ticks\":\"\",\"zerolinecolor\":\"white\"},\"zaxis\":{\"backgroundcolor\":\"rgb(234,234,242)\",\"gridcolor\":\"white\",\"gridwidth\":2,\"linecolor\":\"white\",\"showbackground\":true,\"showgrid\":true,\"ticks\":\"\",\"zerolinecolor\":\"white\"}},\"shapedefaults\":{\"fillcolor\":\"rgb(67,103,167)\",\"line\":{\"width\":0},\"opacity\":0.5},\"ternary\":{\"aaxis\":{\"gridcolor\":\"white\",\"linecolor\":\"white\",\"showgrid\":true,\"ticks\":\"\"},\"baxis\":{\"gridcolor\":\"white\",\"linecolor\":\"white\",\"showgrid\":true,\"ticks\":\"\"},\"bgcolor\":\"rgb(234,234,242)\",\"caxis\":{\"gridcolor\":\"white\",\"linecolor\":\"white\",\"showgrid\":true,\"ticks\":\"\"}},\"xaxis\":{\"automargin\":true,\"gridcolor\":\"white\",\"linecolor\":\"white\",\"showgrid\":true,\"ticks\":\"\",\"title\":{\"standoff\":15},\"zerolinecolor\":\"white\"},\"yaxis\":{\"automargin\":true,\"gridcolor\":\"white\",\"linecolor\":\"white\",\"showgrid\":true,\"ticks\":\"\",\"title\":{\"standoff\":15},\"zerolinecolor\":\"white\"}}},\"xaxis\":{\"anchor\":\"y\",\"domain\":[0.0,1.0],\"title\":{}},\"yaxis\":{\"anchor\":\"x\",\"domain\":[0.0,1.0],\"showticklabels\":false,\"title\":{}}},                        {\"responsive\": true}                    ).then(function(){\n",
       "                            \n",
       "var gd = document.getElementById('ce0ac067-b0fe-42d2-a6be-983023093317');\n",
       "var x = new MutationObserver(function (mutations, observer) {{\n",
       "        var display = window.getComputedStyle(gd).display;\n",
       "        if (!display || display === 'none') {{\n",
       "            console.log([gd, 'removed!']);\n",
       "            Plotly.purge(gd);\n",
       "            observer.disconnect();\n",
       "        }}\n",
       "}});\n",
       "\n",
       "// Listen for the removal of the full notebook cells\n",
       "var notebookContainer = gd.closest('#notebook-container');\n",
       "if (notebookContainer) {{\n",
       "    x.observe(notebookContainer, {childList: true});\n",
       "}}\n",
       "\n",
       "// Listen for the clearing of the current output cell\n",
       "var outputEl = gd.closest('.output');\n",
       "if (outputEl) {{\n",
       "    x.observe(outputEl, {childList: true});\n",
       "}}\n",
       "\n",
       "                        })                };                });            </script>        </div>"
      ]
     },
     "metadata": {},
     "output_type": "display_data"
    }
   ],
   "source": [
    "data_content['Plot Brands'].show()"
   ]
  },
  {
   "cell_type": "code",
   "execution_count": 29,
   "id": "b494dcb4-b5e4-4b4c-bbb6-01c93a7e3aad",
   "metadata": {},
   "outputs": [
    {
     "data": {
      "text/html": [
       "<div>\n",
       "<style scoped>\n",
       "    .dataframe tbody tr th:only-of-type {\n",
       "        vertical-align: middle;\n",
       "    }\n",
       "\n",
       "    .dataframe tbody tr th {\n",
       "        vertical-align: top;\n",
       "    }\n",
       "\n",
       "    .dataframe thead th {\n",
       "        text-align: right;\n",
       "    }\n",
       "</style>\n",
       "<table border=\"1\" class=\"dataframe\">\n",
       "  <thead>\n",
       "    <tr style=\"text-align: right;\">\n",
       "      <th></th>\n",
       "      <th>Product</th>\n",
       "      <th>Ea</th>\n",
       "    </tr>\n",
       "  </thead>\n",
       "  <tbody>\n",
       "    <tr>\n",
       "      <th>0</th>\n",
       "      <td>WW Scotch Finger 250g</td>\n",
       "      <td>71.0</td>\n",
       "    </tr>\n",
       "    <tr>\n",
       "      <th>1</th>\n",
       "      <td>WW Drought Relief Whole Milk 2L</td>\n",
       "      <td>36.0</td>\n",
       "    </tr>\n",
       "    <tr>\n",
       "      <th>2</th>\n",
       "      <td>WW Evaporated Milk 385ml</td>\n",
       "      <td>26.0</td>\n",
       "    </tr>\n",
       "    <tr>\n",
       "      <th>3</th>\n",
       "      <td>WW Sweetened Condensed Milk 397g</td>\n",
       "      <td>25.0</td>\n",
       "    </tr>\n",
       "    <tr>\n",
       "      <th>4</th>\n",
       "      <td>WW Sour Cream 300ml</td>\n",
       "      <td>22.0</td>\n",
       "    </tr>\n",
       "    <tr>\n",
       "      <th>5</th>\n",
       "      <td>WW Roast Chicken</td>\n",
       "      <td>22.0</td>\n",
       "    </tr>\n",
       "    <tr>\n",
       "      <th>6</th>\n",
       "      <td>Woolworths Reusable Bag</td>\n",
       "      <td>21.0</td>\n",
       "    </tr>\n",
       "    <tr>\n",
       "      <th>7</th>\n",
       "      <td>Woolworths Turkish Rolls 4pk 400g</td>\n",
       "      <td>20.0</td>\n",
       "    </tr>\n",
       "    <tr>\n",
       "      <th>8</th>\n",
       "      <td>Berry Strawberry 250g P/P</td>\n",
       "      <td>19.0</td>\n",
       "    </tr>\n",
       "  </tbody>\n",
       "</table>\n",
       "</div>"
      ],
      "text/plain": [
       "                             Product    Ea\n",
       "0              WW Scotch Finger 250g  71.0\n",
       "1    WW Drought Relief Whole Milk 2L  36.0\n",
       "2           WW Evaporated Milk 385ml  26.0\n",
       "3   WW Sweetened Condensed Milk 397g  25.0\n",
       "4                WW Sour Cream 300ml  22.0\n",
       "5                   WW Roast Chicken  22.0\n",
       "6            Woolworths Reusable Bag  21.0\n",
       "7  Woolworths Turkish Rolls 4pk 400g  20.0\n",
       "8          Berry Strawberry 250g P/P  19.0"
      ]
     },
     "execution_count": 29,
     "metadata": {},
     "output_type": "execute_result"
    }
   ],
   "source": [
    "# products Most oftern bought\n",
    "data_content['Favorite Products Count']"
   ]
  },
  {
   "cell_type": "code",
   "execution_count": null,
   "id": "30f68d53-35e5-4191-b2c9-c1c78fafdd8d",
   "metadata": {},
   "outputs": [],
   "source": [
    "# Products most spent on\n",
    "data_content['Favorite Products Spent']"
   ]
  },
  {
   "cell_type": "code",
   "execution_count": null,
   "id": "01e844ea-f28e-4f10-b175-846a621f9b75",
   "metadata": {},
   "outputs": [],
   "source": [
    "# favourite stores\n",
    "data_content['Favourite Stores']"
   ]
  }
 ],
 "metadata": {
  "kernelspec": {
   "display_name": "Python 3 (ipykernel)",
   "language": "python",
   "name": "python3"
  },
  "language_info": {
   "codemirror_mode": {
    "name": "ipython",
    "version": 3
   },
   "file_extension": ".py",
   "mimetype": "text/x-python",
   "name": "python",
   "nbconvert_exporter": "python",
   "pygments_lexer": "ipython3",
   "version": "3.9.2"
  }
 },
 "nbformat": 4,
 "nbformat_minor": 5
}
